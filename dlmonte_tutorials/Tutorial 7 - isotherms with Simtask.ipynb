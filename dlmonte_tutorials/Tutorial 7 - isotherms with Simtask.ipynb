{
 "cells": [
  {
   "cell_type": "markdown",
   "id": "f4ff8607",
   "metadata": {},
   "source": [
    "# Tutorial 7: Sweeping through variuables with `simtask`\n",
    "Original authors: Joe Manning (joseph.manning{at}manchester.ac.uk) and Tom L. Underwood (tlu20{at}bath.ac.uk)"
   ]
  },
  {
   "cell_type": "markdown",
   "id": "028fe97b",
   "metadata": {},
   "source": [
    "## Introduction\n",
    "\n",
    "Tutorial 6 demonstrated how `simtask` could be used to calculate the value and uncertainty of an observable automatically at a given set of thermodynamic conditions: the energy and density was calculated at a specified chemical potential and temperature. We will now go further, automating the calculation of the energy and density at *many* temperatures.\n",
    "The relevant `simtask` class is `MeasurementSweep`, which performs sets of simulations similar to that performed by `Measurement` at a list of different *control parameters*.\n",
    "\n",
    "Similarly to `Measurement`, to invoke the task corresponding to a `MeasurementSweep` object `sweep` the command is\n",
    "\n",
    "```python\n",
    "sweep.run()\n",
    "```\n",
    "\n",
    "However, first one must create the object `sweep`, parameterised appropriately for the task at hand."
   ]
  },
  {
   "cell_type": "markdown",
   "id": "df9a9f9f",
   "metadata": {},
   "source": [
    "## `Simtask` setup\n",
    "\n",
    "We'll set up simtask as we did before:"
   ]
  },
  {
   "cell_type": "code",
   "execution_count": 1,
   "id": "65ab7b2a",
   "metadata": {
    "ExecuteTime": {
     "end_time": "2022-08-11T15:12:17.259053Z",
     "start_time": "2022-08-11T15:12:08.931910Z"
    }
   },
   "outputs": [],
   "source": [
    "import dlmontepython.simtask.dlmonteinterface as interface\n",
    "import dlmontepython.simtask.measurement as measurement\n",
    "import dlmontepython.simtask.analysis as analysis\n",
    "import dlmontepython.simtask.task as task\n",
    "\n",
    "# The line below creates a DL_MONTE-specific interface. Note that the interface \n",
    "# must know the location of the DL_MONTE executable - which is specified as the \n",
    "# argument to the DLMonteInterface constructor.\n",
    "# You will have to adapt the location of the executable to suit your local system.\n",
    "\n",
    "interface = interface.DLMonteInterface(\"DLMONTE-SRL.X\")\n",
    "\n",
    "energy_obs = task.Observable( (\"energy\",) )\n",
    "nmol_obs = task.Observable( (\"nmol\",1) )\n",
    "observables = [ energy_obs, nmol_obs ]\n",
    "\n",
    "precisions = { nmol_obs : 0.2 }\n",
    "\n",
    "m_template = measurement.Measurement(interface, observables, maxsims=20, \n",
    "                                     precisions=precisions, outputdir='./fixedprecision')"
   ]
  },
  {
   "cell_type": "markdown",
   "id": "0986ff46",
   "metadata": {},
   "source": [
    "### Defining the `MeasurementSweep`\n",
    "New we have a template `Measurement` object invoked, we'll create a list of chemical potentials and create a `MeasurementSweep` to run through them."
   ]
  },
  {
   "cell_type": "code",
   "execution_count": 2,
   "id": "7de65b76",
   "metadata": {
    "ExecuteTime": {
     "end_time": "2022-08-11T15:21:26.187717Z",
     "start_time": "2022-08-11T15:21:26.179533Z"
    }
   },
   "outputs": [],
   "source": [
    "molchempots = [1e-5, 1e-4, 1e-3, 1e-2, 1e-1, 1, 1e1, 1e2, 1e3]\n",
    "\n",
    "sweep = measurement.MeasurementSweep(param=\"molchempot\", paramvalues=molchempots, \n",
    "                                     measurement_template=m_template, outputdir=\"isotherm_simulation\")\n"
   ]
  },
  {
   "cell_type": "markdown",
   "id": "568caf7f",
   "metadata": {},
   "source": [
    "## Running the isotherm\n",
    "\n",
    "As mentioned above, the task is invoked via the command\n",
    "\n",
    "```python\n",
    "sweep.run()\n",
    "```\n",
    "\n",
    "#### Troubleshooting\n",
    "\n",
    "If you encounter a problem with running the next block of code, one possible reason is that the path to the `DL_MONTE` executable used to initialise the `DLMonteInterface` object above does not exist, or is wrong.\n",
    "\n",
    "Also, you may encounter issues running this next cell on windows, so I've provided a python script for you to run the same simulation on Linux as required and continue on below.\n"
   ]
  },
  {
   "cell_type": "code",
   "execution_count": null,
   "id": "f135f53b",
   "metadata": {
    "ExecuteTime": {
     "end_time": "2022-08-11T15:23:20.724738Z",
     "start_time": "2022-08-11T15:23:20.112779Z"
    },
    "scrolled": true
   },
   "outputs": [],
   "source": [
    "import os\n",
    "import shutil\n",
    "\n",
    "os.chdir('./Tutorial_7_files/')\n",
    "if os.path.exists('isotherm_simulation'):\n",
    "    shutil.rmtree('isotherm_simulation')\n",
    "\n",
    "sweep.run()"
   ]
  },
  {
   "cell_type": "markdown",
   "id": "7de49d08",
   "metadata": {},
   "source": [
    "## Postprocessing and analysis\n",
    "Just like how the `Measurement` object created \"energy_converge.dat\" and \"nmol_1_converge.dat\" in Tutorial 6, the `MeasurementSweep` object creates summary files called \"energy_sweep.dat\" and \"nmol_1_sweep.dat\", which provide the idata as a complete isotherm."
   ]
  },
  {
   "cell_type": "code",
   "execution_count": 6,
   "id": "264b7239",
   "metadata": {
    "ExecuteTime": {
     "end_time": "2022-08-12T08:36:54.369401Z",
     "start_time": "2022-08-12T08:36:54.115075Z"
    }
   },
   "outputs": [
    {
     "data": {
      "text/plain": [
       "Text(0, 0.5, 'Molecules adsorbed (n/uc)')"
      ]
     },
     "execution_count": 6,
     "metadata": {},
     "output_type": "execute_result"
    },
    {
     "data": {
      "image/png": "[encoded data removed]",
      "text/plain": [
       "<Figure size 432x288 with 1 Axes>"
      ]
     },
     "metadata": {
      "needs_background": "light"
     },
     "output_type": "display_data"
    }
   ],
   "source": [
    "import pandas as pd\n",
    "import matplotlib.pyplot as plt\n",
    "\n",
    "thing = pd.read_table('./Tutorial_7_files/isotherm_simulation/nmol_1_sweep.dat', header=None, sep=' ')\n",
    "pd.DataFrame(thing).plot(x=0,y=1, yerr=2, capsize=2, marker='o', label='$CO_2$')\n",
    "plt.xscale('log')\n",
    "plt.xlabel('Fugacity (Katm)')\n",
    "plt.ylabel('Molecules adsorbed (n/uc)')"
   ]
  },
  {
   "cell_type": "markdown",
   "id": "eb13b3bb",
   "metadata": {},
   "source": [
    "## More advanced use\n",
    "As I'm sure you can imagine, there are a lot of parameters you'll be able to sweep through using `simtask`. \n",
    "From the documentation, you can an alter any parameter in the `MainBlock` or the `molchempot` of the first species in an GCMC insert move.\n",
    "While you can only modify one parameter at a time, I'm sure it'd be possible to do nested loops across different `Measurement` templates e.g. for sequentially running isotherms at different temperatures. \n",
    "Why not give them a try as an extra challenge? \n",
    "Can you calculate the isosteric heat for $CO_2$ in this zeolite?"
   ]
  },
  {
   "cell_type": "code",
   "execution_count": null,
   "id": "46412409",
   "metadata": {},
   "outputs": [],
   "source": []
  }
 ],
 "metadata": {
  "kernelspec": {
   "display_name": "dlmontepython",
   "language": "python",
   "name": "dlmontepython"
  },
  "language_info": {
   "codemirror_mode": {
    "name": "ipython",
    "version": 3
   },
   "file_extension": ".py",
   "mimetype": "text/x-python",
   "name": "python",
   "nbconvert_exporter": "python",
   "pygments_lexer": "ipython3",
   "version": "3.10.2"
  },
  "toc": {
   "base_numbering": 1,
   "nav_menu": {},
   "number_sections": true,
   "sideBar": true,
   "skip_h1_title": true,
   "title_cell": "Table of Contents",
   "title_sidebar": "Contents",
   "toc_cell": false,
   "toc_position": {},
   "toc_section_display": true,
   "toc_window_display": false
  }
 },
 "nbformat": 4,
 "nbformat_minor": 5
}
