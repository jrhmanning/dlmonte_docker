{
 "cells": [
  {
   "cell_type": "markdown",
   "id": "facaedbc",
   "metadata": {},
   "source": [
    "TUTORIAL 4 : GCMC Lennard-Jones\n",
    "===============================\n",
    "\n",
    "Original authors: James Grant (r.j.grant{at}bath.ac.uk), Tom L. Underwood (t.l.underwood{at}bath.ac.uk)\n",
    "\n",
    "Modified to use dlmontepython by Joe Manning (joseph.manning{at}manchester.ac.uk)\n"
   ]
  },
  {
   "cell_type": "markdown",
   "id": "ea486a8d",
   "metadata": {},
   "source": [
    "Introduction\n",
    "------------\n",
    "\n",
    "Grand Canonical Monte Carlo (GCMC) is so named because it allows sampling from the grand canonical ensemble.  \n",
    "In NVT we couple the simulation to a thermostat, with which the system exchanges energy at constant temperature.\n",
    "Similarly with NPT we introduce a barostat which allows volume exchange at constant pressure.\n",
    "GCMC marks a distinction from ensembles that can be modelled with molecular dynamics (MD) because we now allow particles to be added or deleted from the system.\n",
    "This exchange happens at constant *chemical potential* $\\mu$ and the ensemble is alternatively known as \n",
    "$\\mu\\mathrm{VT}$ since volume and temperature are also held constant.\n",
    "The total energy, $E$ of the system is now defined as\n",
    "\n",
    "\n",
    "$$\n",
    "  E=U(\\underline{r})+\\mu N\n",
    "$$\n",
    "where $U(\\underline{r})$ is the energy of the configuration and *N* the number of particles."
   ]
  },
  {
   "cell_type": "markdown",
   "id": "ea6c0c5f",
   "metadata": {},
   "source": [
    "Inputs\n",
    "------"
   ]
  },
  {
   "cell_type": "markdown",
   "id": "c4bc4af7",
   "metadata": {},
   "source": [
    "### Setting up the CONTROL file \n",
    "\n",
    "The CONTROL file is a bit different in GCMC compared to NVT or NVP MC. We'll modify our control file as below.\n",
    "\n",
    "```\n",
    "   GCMC Lennard-Jones \n",
    "   finish\n",
    "   seeds 12 34 56 78               # Seed RNG seeds explicitly to the default\n",
    "   temperature     1.4283461511745 # Corresponds to T*=1.1876; \n",
    "                                   # T(in K) = T* / BOLTZMAN \n",
    "\n",
    "   steps          10000            # Number of moves to perform in simulation\n",
    "   equilibration    0              # Equilibration period: statistics \n",
    "                                   # are gathered after this period\n",
    "   print           1000            # Print statistics every 'print' moves\n",
    "   stack           1000            # Size of blocks for block averaging to obtain statistics\n",
    "   sample coord   10000            # How often to print configurations to ARCHIVE.000\n",
    "   revconformat dlmonte            # REVCON file is in DL_MONTE CONFIG format\n",
    "   archiveformat dlpoly4           # ARCHIVE.000/HISTORY.000/TRAJECTORY.000 format \n",
    "                                   # In this case: HISTORY.000 in DLPOLY4 style\n",
    "   yamldata 1000\n",
    "   move gcinsertmol 1 100 0.7      # Perform insertion/removal moves for lj, a weight 100\n",
    "                                   # with a min. distance of 0.7 from atoms for inserts\n",
    "   lj  0.06177                     # Use an activity of 0.06177   \n",
    "   #  move atom 1 512                 # Move atoms with a weight of 512\n",
    "   #  LJ core \n",
    "   #  move volume cubic linear 1      # Move volume, box is cubic, \n",
    "   #                                # linear scaling with a weight of 1\n",
    "   start\n",
    "```\n",
    "You'll first notice we removed the directives that switch on the neighbour lists *nbrlist* and *maxnonbondnbrs* (and *verlet*).\n",
    "The cost of maintaining the list in GCMC negates the benefits when calculating the energy.\n",
    "In this calculation DL_MONTE is using the activity *a* rather than the chemical potential $\\mu$,\n",
    "which are related according to \n",
    "\n",
    "$$\n",
    "a = \\exp(\\mu/RT)\n",
    "$$\n",
    "\n",
    "where *R* is the gas constant.\n",
    "Note that the grand-canonical insert/delete moves are performed on the *molecule* level.\n",
    "\n",
    "Here we have turned off atom translation moves though there is nothing in principle wrong with allowing these types of moves.\n",
    "However in order to work in the $\\mu\\mathrm{VT}$ ensemble volume moves *MUST* be switched off.\n",
    "Consider what could happen if both insert/deletes and volume moves were allowed.\n",
    "The acceptance rule for linear displacement using the Metropolis approach for insertions is:\n",
    "\n",
    "$$\n",
    "P_{\\mathrm{acc}}([\\mathbf{r}_1,N_1] \\rightarrow [\\mathbf{r}_2,N_2] ) = \\min(1,  \\frac{V\\Lambda^{-3}}{N+1} \\exp \\{- \\beta [E(\\mathbf{r}_2,N_2) - E(\\mathbf{r}_1,N_1)] \\} )\n",
    "$$\n",
    "and for deletions is:\n",
    "\n",
    "$$\n",
    "  P_{\\mathrm{acc}}([\\mathbf{r}_1,N_1] \\rightarrow [\\mathbf{r}_2,N_2] ) = \\min(1,  \\frac{N}{V\\Lambda^{-3}}\\exp \\{- \\beta [E(\\mathbf{r}_2,N_2) - E(\\mathbf{r}_1,N_1)] \\} )\n",
    "$$\n",
    "\n",
    "#### Exercise 1: setup the CONTROL file now in the `Tutorial_4` directory using dlmontepython.\n",
    "> Hint, refer to the previous tutorials for code to be reused, or entire CONTROL files to read in and modify! "
   ]
  },
  {
   "cell_type": "code",
   "execution_count": 1,
   "id": "fe74accf",
   "metadata": {
    "ExecuteTime": {
     "end_time": "2022-08-10T16:19:12.565368Z",
     "start_time": "2022-08-10T16:19:12.119382Z"
    }
   },
   "outputs": [],
   "source": [
    "from dlmontepython.htk.sources import dlcontrol\n",
    "# Your code here!"
   ]
  },
  {
   "cell_type": "markdown",
   "id": "3302fde6",
   "metadata": {},
   "source": [
    "### The FIELD and CONFIG files\n",
    "The FIELD and CONFIG files need slight changes compared to tutorial 3 in order to work with GCMC in DL_MONTE.\n",
    "First we will consider the FIELD file:\n",
    "\n",
    "```\n",
    "   Lennard-Jones, 2.5*sigma cut-off, sigma = 1 angstrom, epsilon = 1eV\n",
    "   CUTOFF 2.5\n",
    "   UNITS internal\n",
    "   NCONFIGS 1\n",
    "   ATOMS 1\n",
    "   LJ core 1.0  0.0\n",
    "   MOLTYPES 1\n",
    "   lj\n",
    "   ATOMS 1 1\n",
    "   LJ core 0.0 0.0 0.0\n",
    "   FINISH\n",
    "   VDW 1\n",
    "   LJ core  LJ core lj   1.0 1.0\n",
    "   CLOSE\n",
    "```\n",
    "Although the *cutoff* and *units* and number of configurations *nconfigs* remain the same as in NVT and NPT exercises, and there is still 1 atom type and 1 molecule type, the FIELD the block declaring the *molecules* is different from what was used previously.\n",
    "\n",
    "In the NVT and NPT cases all the particles were declared to be part of the same molecule. In GCMC each particle should be considered a `molecule` in its own right. To this end, the *maxatom* directive that we used before is now replaced with another directive: `*atoms <initial atoms> <max atoms>*` which provides a template for the atoms' coordinates (if there were more atoms in a molecule then the coordinates for all of them would have to be specified).\n",
    "\n",
    "In principle atoms can be added or removed from a molecule. However in the cases we will consider only molecule will be inserted or deleted, so molecules will have a fixed number of particles, in this case 1. We also define an archetype of the molecule listing the atoms comprising the molecule and their relative coordinates. Again, since we have a single Lennard--Jones particle in each molecule we simply position it at the origin of the reference molecule. The molecule entry is completed with the *finish* directive and the file is completed with the interactions, in this case a single *vdw* interaction as before.\n",
    "\n",
    "Turning to the CONFIG, this is also altered to take account of the changes in the molecule declaration given in the FIELD file:\n",
    "\n",
    "```\n",
    "   Lennard-Jones starting configuration rho = 0.125; particles are molecules, not atoms\n",
    "         0         1\n",
    "   10.0000000000000000  0.0000000000000000  0.0000000000000000\n",
    "   0.0000000000000000  10.0000000000000000  0.0000000000000000\n",
    "   0.0000000000000000  0.0000000000000000  10.0000000000000000\n",
    "   NUMMOL 8 1000\n",
    "   MOLECULE lj 1 1\n",
    "   LJ   core\n",
    "   -5.0000000000000000 -5.0000000000000000 -5.0000000000000000 \n",
    "   MOLECULE lj 1 1\n",
    "   LJ   core\n",
    "   0.0000000000000000 -5.0000000000000000 -5.0000000000000000 \n",
    "   etc\n",
    "```\n",
    "The molecule declaration mirrors that seen in the FIELD file.\n",
    "Each particle must be declared as part of a molecule along with its type and initial and maximum numbers of atoms.\n",
    "The atom/particle declaration and its position then follows as before."
   ]
  },
  {
   "cell_type": "markdown",
   "id": "91862062",
   "metadata": {},
   "source": [
    "#### Exercise 2: Set up CONFIG and FIELD files using dlmontepython"
   ]
  },
  {
   "cell_type": "code",
   "execution_count": 2,
   "id": "0018bd6a",
   "metadata": {
    "ExecuteTime": {
     "end_time": "2022-08-10T16:21:06.268630Z",
     "start_time": "2022-08-10T16:21:02.823647Z"
    }
   },
   "outputs": [],
   "source": [
    "from dlmontepython.htk.sources import dlfield, dlconfig\n",
    "# your code here!"
   ]
  },
  {
   "cell_type": "markdown",
   "id": "8a9b1157",
   "metadata": {},
   "source": [
    "Analysing the outputs\n",
    "---------\n",
    "Launch DL_MONTE as you did in the previous tutorial. Again, we'll use dlmontepython to analyse the results from the YAMLDATA file."
   ]
  },
  {
   "cell_type": "code",
   "execution_count": 6,
   "id": "4add2005",
   "metadata": {
    "ExecuteTime": {
     "end_time": "2022-08-11T10:22:55.816637Z",
     "start_time": "2022-08-11T10:22:55.732640Z"
    }
   },
   "outputs": [
    {
     "data": {
      "text/html": [
       "<div>\n",
       "<style scoped>\n",
       "    .dataframe tbody tr th:only-of-type {\n",
       "        vertical-align: middle;\n",
       "    }\n",
       "\n",
       "    .dataframe tbody tr th {\n",
       "        vertical-align: top;\n",
       "    }\n",
       "\n",
       "    .dataframe thead th {\n",
       "        text-align: right;\n",
       "    }\n",
       "</style>\n",
       "<table border=\"1\" class=\"dataframe\">\n",
       "  <thead>\n",
       "    <tr style=\"text-align: right;\">\n",
       "      <th></th>\n",
       "      <th>timestamp</th>\n",
       "      <th>energy</th>\n",
       "      <th>energyvdw</th>\n",
       "      <th>nmol</th>\n",
       "    </tr>\n",
       "  </thead>\n",
       "  <tbody>\n",
       "    <tr>\n",
       "      <th>0</th>\n",
       "      <td>1000</td>\n",
       "      <td>-6.000009e+07</td>\n",
       "      <td>-6.000009e+07</td>\n",
       "      <td>[107]</td>\n",
       "    </tr>\n",
       "    <tr>\n",
       "      <th>1</th>\n",
       "      <td>2000</td>\n",
       "      <td>-6.000014e+07</td>\n",
       "      <td>-6.000014e+07</td>\n",
       "      <td>[132]</td>\n",
       "    </tr>\n",
       "    <tr>\n",
       "      <th>2</th>\n",
       "      <td>3000</td>\n",
       "      <td>-6.000023e+07</td>\n",
       "      <td>-6.000023e+07</td>\n",
       "      <td>[176]</td>\n",
       "    </tr>\n",
       "    <tr>\n",
       "      <th>3</th>\n",
       "      <td>4000</td>\n",
       "      <td>-6.000020e+07</td>\n",
       "      <td>-6.000020e+07</td>\n",
       "      <td>[166]</td>\n",
       "    </tr>\n",
       "    <tr>\n",
       "      <th>4</th>\n",
       "      <td>5000</td>\n",
       "      <td>-6.000021e+07</td>\n",
       "      <td>-6.000021e+07</td>\n",
       "      <td>[172]</td>\n",
       "    </tr>\n",
       "    <tr>\n",
       "      <th>5</th>\n",
       "      <td>6000</td>\n",
       "      <td>-6.000023e+07</td>\n",
       "      <td>-6.000023e+07</td>\n",
       "      <td>[167]</td>\n",
       "    </tr>\n",
       "    <tr>\n",
       "      <th>6</th>\n",
       "      <td>7000</td>\n",
       "      <td>-6.000028e+07</td>\n",
       "      <td>-6.000028e+07</td>\n",
       "      <td>[191]</td>\n",
       "    </tr>\n",
       "    <tr>\n",
       "      <th>7</th>\n",
       "      <td>8000</td>\n",
       "      <td>-6.000025e+07</td>\n",
       "      <td>-6.000025e+07</td>\n",
       "      <td>[178]</td>\n",
       "    </tr>\n",
       "    <tr>\n",
       "      <th>8</th>\n",
       "      <td>9000</td>\n",
       "      <td>-6.000023e+07</td>\n",
       "      <td>-6.000023e+07</td>\n",
       "      <td>[170]</td>\n",
       "    </tr>\n",
       "    <tr>\n",
       "      <th>9</th>\n",
       "      <td>10000</td>\n",
       "      <td>-6.000025e+07</td>\n",
       "      <td>-6.000025e+07</td>\n",
       "      <td>[176]</td>\n",
       "    </tr>\n",
       "  </tbody>\n",
       "</table>\n",
       "</div>"
      ],
      "text/plain": [
       "   timestamp        energy     energyvdw   nmol\n",
       "0       1000 -6.000009e+07 -6.000009e+07  [107]\n",
       "1       2000 -6.000014e+07 -6.000014e+07  [132]\n",
       "2       3000 -6.000023e+07 -6.000023e+07  [176]\n",
       "3       4000 -6.000020e+07 -6.000020e+07  [166]\n",
       "4       5000 -6.000021e+07 -6.000021e+07  [172]\n",
       "5       6000 -6.000023e+07 -6.000023e+07  [167]\n",
       "6       7000 -6.000028e+07 -6.000028e+07  [191]\n",
       "7       8000 -6.000025e+07 -6.000025e+07  [178]\n",
       "8       9000 -6.000023e+07 -6.000023e+07  [170]\n",
       "9      10000 -6.000025e+07 -6.000025e+07  [176]"
      ]
     },
     "execution_count": 6,
     "metadata": {},
     "output_type": "execute_result"
    }
   ],
   "source": [
    "from dlmontepython.htk.sources import dlptfile\n",
    "import pandas as pd\n",
    "\n",
    "yaml_out = dlptfile.load_yaml('./Tutorial_4_files/')\n",
    "yaml_df = pd.DataFrame(yaml_out.data)\n",
    "yaml_df\n",
    "#yaml_df = yaml_df.set_index('timestamp')\n",
    "#yaml_df.plot.line(y='nmols')"
   ]
  },
  {
   "cell_type": "markdown",
   "id": "2d783f72",
   "metadata": {},
   "source": [
    "You'll ntice that instead of being an integer, 'nmol' here is a list. This comes in handy when you have multiple molecules - the index of the list matches the order they're defined in the `FIELD` file.\n",
    "\n",
    "To make use of the information, we need to change the data type with df.apply"
   ]
  },
  {
   "cell_type": "code",
   "execution_count": 13,
   "id": "631dc160",
   "metadata": {
    "ExecuteTime": {
     "end_time": "2022-08-11T10:30:21.645731Z",
     "start_time": "2022-08-11T10:30:19.812921Z"
    }
   },
   "outputs": [
    {
     "data": {
      "text/plain": [
       "<AxesSubplot:xlabel='timestamp'>"
      ]
     },
     "execution_count": 13,
     "metadata": {},
     "output_type": "execute_result"
    },
    {
     "data": {
      "image/png": "[encoded data removed]",
      "text/plain": [
       "<Figure size 432x288 with 1 Axes>"
      ]
     },
     "metadata": {
      "needs_background": "light"
     },
     "output_type": "display_data"
    }
   ],
   "source": [
    "yaml_df.nmol = yaml_df['nmol'].apply(lambda x: int(x[0]))\n",
    "yaml_df = yaml_df.set_index('timestamp')\n",
    "yaml_df.plot.line(y='nmol')"
   ]
  },
  {
   "cell_type": "markdown",
   "id": "b6e75b98",
   "metadata": {},
   "source": [
    "From this, we extract the time sequence of the number of particles in the system. \n",
    "\n",
    "#### Challenge 1 - testing equilibration\n",
    "Does the system look equilibrated to you? How can we assess this quantitiatively? First, try increasing the length of the simulation to establish whether the system has equilibrated. Then, can you apply the algorithms in [this paper](https://pubs.acs.org/doi/10.1021/acs.jctc.5b00784)? Hint - check out the `timeseries module` in their [python package](https://pymbar.readthedocs.io/en/master/).\n",
    "\n",
    "#### Challenge 2 - the effect of different parameters\n",
    "\n",
    "What happens as you systematically vary the temperature and activity (chemical potential)?  \n",
    "You can  explore histograms once you have produced the time sequence of adsorbed particles with `plot.hist()` method of the resulting dataframe."
   ]
  },
  {
   "cell_type": "code",
   "execution_count": null,
   "id": "dbbe46c7",
   "metadata": {},
   "outputs": [],
   "source": [
    "# Your code here!"
   ]
  }
 ],
 "metadata": {
  "kernelspec": {
   "display_name": "dlmontepython",
   "language": "python",
   "name": "dlmontepython"
  },
  "language_info": {
   "codemirror_mode": {
    "name": "ipython",
    "version": 3
   },
   "file_extension": ".py",
   "mimetype": "text/x-python",
   "name": "python",
   "nbconvert_exporter": "python",
   "pygments_lexer": "ipython3",
   "version": "3.10.2"
  },
  "toc": {
   "base_numbering": 1,
   "nav_menu": {},
   "number_sections": true,
   "sideBar": true,
   "skip_h1_title": true,
   "title_cell": "Table of Contents",
   "title_sidebar": "Contents",
   "toc_cell": false,
   "toc_position": {},
   "toc_section_display": true,
   "toc_window_display": false
  }
 },
 "nbformat": 4,
 "nbformat_minor": 5
}
