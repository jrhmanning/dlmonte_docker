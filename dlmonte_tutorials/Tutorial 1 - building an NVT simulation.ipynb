{
 "cells": [
  {
   "cell_type": "markdown",
   "id": "95f5d6cc",
   "metadata": {
    "ExecuteTime": {
     "end_time": "2022-07-22T11:35:42.774831Z",
     "start_time": "2022-07-22T11:35:42.746833Z"
    }
   },
   "source": [
    "TUTORIAL 1 : NVT Lennard-Jones fluid\n",
    "====================================\n",
    "\n",
    "Original authors: Andrey V. Brukhno (andrey.brukhno{at}stfc.ac.uk), James Grant (r.j.grant{at}bath.ac.uk), and John Purton (john.purton{at}stfc.ac.uk)\n",
    "\n",
    "Modified to use dlmontepython by Joe Manning (joseph.manning{at}manchester.ac.uk)\n",
    "\n",
    "MC method in outline\n",
    "---------------------\n",
    "\n",
    "In this tutorial we will perform the most straightforward Monte Carlo (MC) simulation - a simulation of a Lennard-Jones fluid in the canonical (NVT)\n",
    "ensemble. The triplet **NVT** signifies that number of particles, volume (hence, density) and temperature are kept constant during the entire length of\n",
    "this type of simulation.\n",
    "\n",
    "In this case only the particles are allowed to move, and a random walk is constructed following the approach of Metropolis *et al.*.\n",
    "The Metropolis algorithm iterates the following three steps that together constitute a single MC move (or attempt):\n",
    "\n",
    "1. Select a particle at random and calculate its energy $U(\\mathbf{r}_1)$.\n",
    "2. Displace the particle randomly to a *trial* position and calculate its new energy $U(\\mathbf{r}_2)$.\n",
    "3. Accept or reject the particle displacement according to the Metropolis acceptance rule:\n",
    "\n",
    "$$ P_{\\mathrm{acc}}(\\mathbf{r}_1 \\rightarrow \\mathbf{r}_2) = \\min(1, \\exp \\{- \\beta [U(\\mathbf{r}_2) - U(\\mathbf{r}_1)] \\} ) $$\n",
    "\n",
    "\n",
    "How do we achieve this?\n",
    "-----------------------\n",
    "\n",
    "**Ensure detailed balance**: it is crucial to ensure a truly random (uniform) selection of trial particle positions! Otherwise an unwanted, hidden bias can be introduced into the MC sampling procedure, which would invalidate the obtained statistics.\n",
    "\n",
    "The common way to move (translate) a particle is to generate a random displacement vector $\\Delta\\mathbf{r}$ bound within a cube with a given side legnth $\\Delta_{max}$ (the so-called *displacement parameter*) and add it to the current position of the particle under trial.\n",
    "\n",
    "\n",
    "Then, pick up a random number between 0 and 1 and accept or reject the move as illustrated below:\n",
    "\n",
    "<img src=\"images/Metropolis-acceptance.jpg\" alt=\"Demonstration of the Metropolis algorithm\" class=\"bg-primary\" width=\"500px\"> "
   ]
  },
  {
   "cell_type": "markdown",
   "id": "d16e7aa2",
   "metadata": {},
   "source": [
    "DL_MONTE Input Files\n",
    "--------------------\n",
    "\n",
    "The purpose of this tutorial is to introduce the basic file formats that are used by DL_MONTE and then run an example MC simulation. DL_MONTE requires at least 3 standard input files (similar to DL_POLY):\n",
    "\n",
    " FIELD -- units, atoms, molecules, topology and force-field specs (fixed format)\n",
    " \n",
    " CONFIG -- initial configuration for the system, including cell vectors (fixed format)\n",
    " \n",
    " CONTROL -- simulation parameters: external conditions, options and flags (free format)\n",
    "\n",
    "NOTE: The file names are *fixed*, i.e. only these file names are recognised by DL_MONTE. In some more intricate cases other input files might be needed (e.g. for restarting a simulation for continuation).\n",
    "\n",
    "We will introduce these files and discuss each of them in turn. Full details of their structure, formats and default values can be found in the [DL_MONTE manual](https://dl_monte.gitlab.io/dl_monte_manual/).\n",
    "\n",
    "In this tutorial, we will go through the basics of producing each of these fiules using DL_MONTE's python wrapper [dlmontepython](https://gitlab.com/dl_monte/dlmontepython)\n",
    "\n",
    "NOTE: The first line in all the three files is an arbitrary *title* which can contain up to 80 characters (any symbol over that limit will be ignored by DL_MONTE). The titles can be different in each file. \n"
   ]
  },
  {
   "cell_type": "markdown",
   "id": "baca864d",
   "metadata": {},
   "source": [
    "FIELD\n",
    "-----\n",
    "\n",
    "In DL_MONTE the system is abstracted into atoms and molecules: atoms are treated as point-like particles, and molecules are collections of atoms which can be moved collectively. This, along with a versatile selection of potential forms which can be combined into different force fields, allows for simulation of a wide range of systems comprised of possible combinations of free unconnected atoms (so-called atomic/ionic fields), and molecules possessing structure: both rigid and flexible.\n",
    "\n",
    "The FIELD file defines all the atomic and molecular types present in the system, but also possibly the molecular structure (so-called topology: bonds, angles, etc). Finally, it also specifies the interatomic and (optional) external potentials. A detailed description of all the available force-field parameters and their interplay can be found in the DL_MONTE manual. \n",
    "\n",
    "The file structure is similar to that used by DL_POLY, but there are some important differences owing to the requirements for Grand-Canonical simulations (considered later). \n",
    "\n",
    "The FIELD file for our first tutorial is shown below:\n",
    "\n",
    "```\n",
    "\n",
    "   Lennard-Jones, 2.5*sigma cut-off, sigma = 1 Angstrom, epsilon = 1 internal unit = 10 J/N_A\n",
    "   CUTOFF 2.5                      # cut-off radius (must be the 2-nd line - after the title)\n",
    "   UNITS internal                  # energy unit (must be the 3-rd line - after CUTOFF)\n",
    "   NCONFIGS   1                    # number of configurations in CONFIG file (must be the 4-th line)\n",
    "   ATOM TYPES 1                    # number of atom types or elements (must be the 5-th line)\n",
    "   LJ core 1.0  0.0                # mass and charge of the atom(s)\n",
    "   MOLECULE TYPES 1                # number of molecular types\n",
    "   lj                              # molecule name (case sensitive)\n",
    "   MAXATOM 512                     # max number of atoms within current molecular type\n",
    "   FINISH                          # closing the molecular type specs\n",
    "   VDW 1                           # number of short-ranged Van der Waals potentials \n",
    "   LJ core  LJ core lj   1.0 1.0   # atom names and types for a VDW pair, LJ epsilon and sigma\n",
    "   CLOSE                           # closing FIELD\n",
    "\n",
    "```\n",
    "The important points to note are: \n",
    "\n",
    " the *cutoff = 2.5* for the short-ranged VDW interactions is in Angstroms \n",
    " \n",
    " the energy *unit* used in this case is *internal = 10 J/mol* [or 0.01 kJ/mol], \n",
    " \n",
    " the CONFIG file contains *NCONFIGS = 1* configuration.\n",
    "\n",
    " the only *ATOM* type present has the name *LJ* and the type *core*, having *mass = 1.0* and *charge = 0.0*. \n",
    " \n",
    "All the atoms in the system are contained within a single molecule called *lj*. The number of atoms in this molecule is restricted to 512 at most. Note that the CONFIG file cannot contain more than that number of atoms within that type of a molecule. As a matter of fact, for an NVT simulation where the number of particles cannot change, the CONFIG file *must* contain the total number of atoms that is specified in the FIELD file!\n"
   ]
  },
  {
   "cell_type": "markdown",
   "id": "9d6ae903",
   "metadata": {},
   "source": [
    "### Building a FIELD file\n",
    "First, we import the specific dlmontepython modules we need. Primarily this is the `dlfield` module. Then we'll instantiate an exmpy FIELD object to check the defaults:"
   ]
  },
  {
   "cell_type": "code",
   "execution_count": 1,
   "id": "b225b3fb",
   "metadata": {
    "ExecuteTime": {
     "end_time": "2022-10-12T14:20:16.715462Z",
     "start_time": "2022-10-12T14:20:14.722356Z"
    }
   },
   "outputs": [
    {
     "name": "stdout",
     "output_type": "stream",
     "text": [
      "Field file Header\n",
      "CUTOFF 1.0\n",
      "UNITS eV\n",
      "NCONFIGS 1\n",
      "ATOMS 0\n",
      "MOLTYPES 0\n",
      "FINISH\n",
      "VDW 0\n",
      "CLOSE\n"
     ]
    }
   ],
   "source": [
    "from dlmontepython.htk.sources import dlfield\n",
    "\n",
    "test_field = dlfield.FIELD()\n",
    "print(test_field)"
   ]
  },
  {
   "cell_type": "markdown",
   "id": "a6bff523",
   "metadata": {},
   "source": [
    "As we can see, there are a lot of parameters to change:\n",
    "* Modify the global parameters (energy units, cutoff etc.) to match our test system\n",
    "* Define atom- and molecule types\n",
    "* Define intermolecular interactions between atoms in the system\n",
    "\n",
    "We'll go through each in turn:\n",
    "\n",
    "#### Defining global parameters"
   ]
  },
  {
   "cell_type": "code",
   "execution_count": 2,
   "id": "fb547963",
   "metadata": {
    "ExecuteTime": {
     "end_time": "2022-10-12T14:20:16.731151Z",
     "start_time": "2022-10-12T14:20:16.718024Z"
    }
   },
   "outputs": [
    {
     "name": "stdout",
     "output_type": "stream",
     "text": [
      "Lennard-Jones, 2.5*sigma cut-off, sigma = 1 Angstrom, epsilon = 1 internal unit = 10 J/N_A\n",
      "CUTOFF 2.5\n",
      "UNITS internal\n",
      "NCONFIGS 1\n",
      "ATOMS 0\n",
      "MOLTYPES 0\n",
      "FINISH\n",
      "VDW 0\n",
      "CLOSE\n"
     ]
    }
   ],
   "source": [
    "# Define global parameters\n",
    "test_field.description = \"Lennard-Jones, 2.5*sigma cut-off, sigma = 1 Angstrom, epsilon = 1 internal unit = 10 J/N_A\"\n",
    "test_field.cutoff = 2.5\n",
    "test_field.units = 'internal'\n",
    "print(test_field)"
   ]
  },
  {
   "cell_type": "markdown",
   "id": "1f7a9d95",
   "metadata": {},
   "source": [
    "#### Defining specific atom- and molecule types\n",
    "\n",
    "Atom and molecule type objects are defined in `dlfieldspecies`.\n",
    "There are 4 objects defined within that module, but in this tutorial we're only using three - `AtomType`, `Atom`, and `MolType`. \n",
    "The other ones will come in handy later when we are defining multiatomic molecules with specific internal coordinates."
   ]
  },
  {
   "cell_type": "code",
   "execution_count": 3,
   "id": "b6fa1e6e",
   "metadata": {
    "ExecuteTime": {
     "end_time": "2022-10-12T14:20:16.746795Z",
     "start_time": "2022-10-12T14:20:16.733157Z"
    }
   },
   "outputs": [],
   "source": [
    "from dlmontepython.htk.sources import dlfieldspecies\n",
    "\n",
    "#Defining a category of atoms that mgith be used in multiple places/moleculeswithin the same simulation\n",
    "lj_atomtype = dlfieldspecies.AtomType(\n",
    "    name = 'LJ',\n",
    "    atype = 'core',\n",
    "    mass = 1.,\n",
    "    charge = 0.\n",
    ")\n",
    "\n",
    "# Defining a specific atom to be placed within a molecule - we'll use this later!\n",
    "lj_atom = dlfieldspecies.Atom(\n",
    "    name='LJ',\n",
    "    atype = 'core',\n",
    "    mass = 1.,\n",
    "    chg = 0.,\n",
    "    x=0.,\n",
    "    y=0.,\n",
    "    z=0.,\n",
    ")\n",
    "\n",
    "# Defining a molecule type, along the same lines as the AtomTpye above.\n",
    "# In this case we just need to pass the maxatom command = it specifies that we don't need to consider internal coordinates\n",
    "lj_moltype = dlfieldspecies.MolType(\n",
    "    name='lj',\n",
    "    nmaxatom=512\n",
    ")\n",
    "\n",
    "# Defining the molecule as a list of atoms with specific positions\n",
    "lj_mol = dlfieldspecies.Molecule(\n",
    "    name = 'lj'\n",
    ")\n"
   ]
  },
  {
   "cell_type": "code",
   "execution_count": 4,
   "id": "20e49953",
   "metadata": {
    "ExecuteTime": {
     "end_time": "2022-10-12T14:20:16.762323Z",
     "start_time": "2022-10-12T14:20:16.747799Z"
    }
   },
   "outputs": [
    {
     "name": "stdout",
     "output_type": "stream",
     "text": [
      "Lennard-Jones, 2.5*sigma cut-off, sigma = 1 Angstrom, epsilon = 1 internal unit = 10 J/N_A\n",
      "CUTOFF 2.5\n",
      "UNITS internal\n",
      "NCONFIGS 1\n",
      "ATOMS 1\n",
      "LJ core 1.0 0.0\n",
      "MOLTYPES 1\n",
      "lj\n",
      "MAXATOM 512\n",
      "FINISH\n",
      "VDW 0\n",
      "CLOSE\n"
     ]
    }
   ],
   "source": [
    "# Now we add the two objects we're using to the test FIELD file\n",
    "test_field.atomtypes.append(lj_atomtype)\n",
    "test_field.moltypes.append(lj_moltype)\n",
    "print(test_field)"
   ]
  },
  {
   "cell_type": "markdown",
   "id": "35e1979c",
   "metadata": {},
   "source": [
    "#### Adding interactinos to the FIELD file\n",
    "Interactions are defined in `dlfieldinteraction`. \n",
    "There are a few different ones defined, but in this case we use traditional [Lennard Jones interactions](https://en.wikipedia.org/wiki/Lennard-Jones_potential) with the `InteractionLJ` object.\n",
    "\n",
    "Once instantiated, we define which atomtypes are interacting based on a `dlfield.VDW` object."
   ]
  },
  {
   "cell_type": "code",
   "execution_count": 5,
   "id": "052657a0",
   "metadata": {
    "ExecuteTime": {
     "end_time": "2022-10-12T14:20:16.777352Z",
     "start_time": "2022-10-12T14:20:16.764320Z"
    }
   },
   "outputs": [
    {
     "name": "stdout",
     "output_type": "stream",
     "text": [
      "Lennard-Jones, 2.5*sigma cut-off, sigma = 1 Angstrom, epsilon = 1 internal unit = 10 J/N_A\n",
      "CUTOFF 2.5\n",
      "UNITS internal\n",
      "NCONFIGS 1\n",
      "ATOMS 1\n",
      "LJ core 1.0 0.0\n",
      "MOLTYPES 1\n",
      "lj\n",
      "MAXATOM 512\n",
      "FINISH\n",
      "VDW 1\n",
      "LJ core LJ core lj 1.0 1.0\n",
      "CLOSE\n"
     ]
    }
   ],
   "source": [
    "from dlmontepython.htk.sources import dlinteraction\n",
    "\n",
    "interaction = dlinteraction.InteractionLJ(\n",
    "    epsilon=1.,\n",
    "    sigma=1.\n",
    ")\n",
    "\n",
    "example_LJ = dlfield.VDW(\n",
    "    atom1 = lj_atom,\n",
    "    atom2 = lj_atom,\n",
    "    interaction = interaction\n",
    ")\n",
    "\n",
    "test_field.vdw.append(example_LJ)\n",
    "\n",
    "print(test_field)"
   ]
  },
  {
   "cell_type": "markdown",
   "id": "ec37b1e1",
   "metadata": {},
   "source": [
    "#### Comparing against the template\n",
    "\n",
    "Now that we've added in our atoms, let's do a final check to see how the FIELD file we generated compares against the given example. We'll do this with [`difflib`](https://docs.python.org/3/library/difflib.html#differ-example) which will print out a character-by-character summary of differences in the two objects."
   ]
  },
  {
   "cell_type": "code",
   "execution_count": 6,
   "id": "208e26c3",
   "metadata": {
    "ExecuteTime": {
     "end_time": "2022-10-12T14:20:16.792353Z",
     "start_time": "2022-10-12T14:20:16.779321Z"
    }
   },
   "outputs": [
    {
     "name": "stdout",
     "output_type": "stream",
     "text": [
      "['  Lennard-Jones, 2.5*sigma cut-off, sigma = 1 Angstrom, epsilon = 1 internal '\n",
      " 'unit = 10 J/N_A',\n",
      " '  CUTOFF 2.5',\n",
      " '  UNITS internal',\n",
      " '  NCONFIGS 1',\n",
      " '- ATOM TYPES 1',\n",
      " '+ ATOMS 1',\n",
      " '  LJ core 1.0 0.0',\n",
      " '- MOLECULE TYPES 1',\n",
      " '?    ------\\n',\n",
      " '+ MOLTYPES 1',\n",
      " '  lj',\n",
      " '  MAXATOM 512',\n",
      " '  FINISH',\n",
      " '  VDW 1',\n",
      " '  LJ core LJ core lj 1.0 1.0',\n",
      " '  CLOSE']\n"
     ]
    }
   ],
   "source": [
    "from pprint import pprint\n",
    "import difflib\n",
    "D = difflib.Differ()\n",
    "\n",
    "given = \"\"\"Lennard-Jones, 2.5*sigma cut-off, sigma = 1 Angstrom, epsilon = 1 internal unit = 10 J/N_A\n",
    "CUTOFF 2.5\n",
    "UNITS internal\n",
    "NCONFIGS 1\n",
    "ATOM TYPES 1\n",
    "LJ core 1.0 0.0\n",
    "MOLECULE TYPES 1\n",
    "lj\n",
    "MAXATOM 512\n",
    "FINISH\n",
    "VDW 1\n",
    "LJ core LJ core lj 1.0 1.0\n",
    "CLOSE\"\"\".splitlines(keepends=False)\n",
    "\n",
    "generated = str(test_field).splitlines(keepends=False)\n",
    "\n",
    "result = list(D.compare(given, generated))\n",
    "pprint(result)"
   ]
  },
  {
   "cell_type": "markdown",
   "id": "899214da",
   "metadata": {},
   "source": [
    "From the `Differ` output we can see the only difference in two two objects is the `ATOM TYPES` and `MOLECULE TYPES` keywords. A quick check of the relevant section in the [DL_MONTE manual](https://dl_monte.gitlab.io/dl_monte_manual/input.html#the-field-file:~:text=the%20latter%20are-,complete,-.) indicates that these differences will make no difference to the eventual outcome."
   ]
  },
  {
   "cell_type": "markdown",
   "id": "1447b2ba",
   "metadata": {},
   "source": [
    "CONFIG\n",
    "------\n",
    "\n",
    "The CONFIG file contains the starting configuration specification. It defines the cell type and geometry, sets the cell vectors (in the matrix form), the actual and maximum numbers of molecules, atoms within each molecule, and also the coordinates of all the atoms. \n",
    "\n",
    "Below we illustrate the structure of the CONFIG file with a sample of the configuration provided for this tutorial.\n",
    "\n",
    "```\n",
    "   Exercise 1: LJ fluid in NVT ensemble\n",
    "   0         0\n",
    "   11.7452  0.00000  0.00000\n",
    "   0.00000  11.7452  0.00000\n",
    "   0.00000  0.00000  11.7452\n",
    "   NUMMOL 1 1\n",
    "   MOLECULE lj 512 512\n",
    "   LJ core\n",
    "   0 0 0\n",
    "   LJ core\n",
    "   0 0 0.125\n",
    "   LJ core\n",
    "   0 0 0.25\n",
    "   LJ core\n",
    "   0 0 0.375\n",
    "```\n",
    "   \n",
    "In line 2 the first number is an integer switch operating in the same way as *levcfg* in DL_POLY. It should be set to zero if the CONFIG file only contains the particle coordinates (which is sufficient for starting an MC simulation). However, if non-zero, this flag allows DL_MONTE to read in CONFIG files originating from MD (DL_POLY) simulations and containing (x,y,z) components of the particle velocities (*levcfg = 1*) or velocities and forces (*levcfg = 2*) which would appear on the lines directly following the particle coordinates. Note, however, that DL_POLY CONFIG files cannot be used directly, without certain modifications, as input for DL_MONTE simulations. \n",
    "\n",
    "The second integer flag determines the convention used for the particle coordinates: \n",
    "* 0 for fractional representaion\n",
    "* 1 for cubic\n",
    "* 2 for orthorhombic\n",
    "* 3 fr palleliped\n",
    "These are followed by the cell matrix. \n",
    "\n",
    "In our case the CONFIG file contains fractional coordinates and, since the cell matrix is diagonal and all its diagonal elements are equal, the\n",
    "simulation cell is cubic.\n",
    "\n",
    "The line starting with *NUMMOL* keyword specifies the *total number of molecules present*, followed by the *maximum number of molecules allowed for\n",
    "each molecular type* defined in the FIELD file. In this case we have only one molecular type *lj*, and there is only one molecule of this type in the\n",
    "CONFIG file. The molecule comprises 512 atoms (LJ particles) which equals the maximum number. \n",
    "\n",
    "Finally, the atoms' specs are read in. The atom data follows and for each particle, its name (usually chemical symbol) and type (core, semi and metal\n",
    "that can be abbreviate to c, s, and m) are specified.  \n",
    "On the next line these are followed by the coordinates in a format consistent with that given on line 2.  \n",
    "\n",
    "<img src=\"images/tutorial1-CONFIG1.png\" alt=\"Visualisation of the initial configuration\" class=\"bg-primary\" width=\"450px\"> "
   ]
  },
  {
   "cell_type": "markdown",
   "id": "726e2700",
   "metadata": {},
   "source": [
    "### Building a CONFIG file with dlmontepython\n",
    "As with the FIELD file, we build the CONFIG file from a speciifc module in `dlmontepython.htk.sources`. These two files are closely linked - the simulation will only run if the initial configuration is valid given the specific force field parameters and _vice versa_.\n",
    "\n",
    "First, we instantiate the `CONFIG` file:"
   ]
  },
  {
   "cell_type": "code",
   "execution_count": 7,
   "id": "3b69eb64",
   "metadata": {
    "ExecuteTime": {
     "end_time": "2022-10-12T14:20:16.822781Z",
     "start_time": "2022-10-12T14:20:16.794320Z"
    }
   },
   "outputs": [
    {
     "name": "stdout",
     "output_type": "stream",
     "text": [
      "Exercise 1: LJ fluid in NVT ensemble\n",
      "0 0\n",
      "11.7452 0 0\n",
      "0 11.7452 0\n",
      "0 0 11.7452\n",
      "NUMMOL \n"
     ]
    }
   ],
   "source": [
    "from dlmontepython.htk.sources import dlconfig\n",
    "\n",
    "cell = [\n",
    "    [11.7452, 0,0],\n",
    "    [0,11.7452,0],\n",
    "    [0,0,11.7452]\n",
    "]\n",
    "\n",
    "test_config = dlconfig.CONFIG(\n",
    "    title=\"Exercise 1: LJ fluid in NVT ensemble\",\n",
    "    level=0,\n",
    "    dlformat=0,\n",
    "    vcell=cell,\n",
    "\n",
    ")\n",
    "print(test_config)"
   ]
  },
  {
   "cell_type": "markdown",
   "id": "77518fae",
   "metadata": {},
   "source": [
    "Then we need to updatye our `Molecule` object from earlier with an 8x8x8 grid of LJ atoms. first we'll generate the intended positions with `itertools.product`, then we'll use the `lj_mol.add_atom` method to add a new "
   ]
  },
  {
   "cell_type": "code",
   "execution_count": 8,
   "id": "61f329e0",
   "metadata": {
    "ExecuteTime": {
     "end_time": "2022-10-12T14:20:16.837796Z",
     "start_time": "2022-10-12T14:20:16.824785Z"
    }
   },
   "outputs": [],
   "source": [
    "def _atom_stringify(self):\n",
    "    output = []\n",
    "    for i in self:\n",
    "        output.append(\n",
    "            '{0} {1}\\n {2} {3} {4} 0'.format(\n",
    "                i.name,\n",
    "                i.type,\n",
    "                i.rpos[0],\n",
    "                i.rpos[1],\n",
    "                i.rpos[2]\n",
    "            )\n",
    "        )\n",
    "    return output\n",
    "\n",
    "def to_dict(self):\n",
    "    \"\"\"\n",
    "    returns a dictionary representation for inputting into a CONFIG object\n",
    "    \"\"\"\n",
    "    output = {}\n",
    "    output[\"name\"] = self.name\n",
    "    output[\"natom\"] = len(self.atoms)\n",
    "    output[\"atoms\"] =  _atom_stringify(self.atoms)\n",
    "\n",
    "    return output"
   ]
  },
  {
   "cell_type": "code",
   "execution_count": 9,
   "id": "13cc3443",
   "metadata": {
    "ExecuteTime": {
     "end_time": "2022-10-12T14:20:16.867924Z",
     "start_time": "2022-10-12T14:20:16.839795Z"
    },
    "scrolled": true
   },
   "outputs": [
    {
     "name": "stdout",
     "output_type": "stream",
     "text": [
      "Exercise 1: LJ fluid in NVT ensemble\n",
      "0 0\n",
      "11.7452 0 0\n",
      "0 11.7452 0\n",
      "0 0 11.7452\n",
      "NUMMOL 1 1\n",
      "MOLECULE lj 512\n",
      "LJ core\n",
      " 0.0, 0.0, 0.0 0\n",
      "LJ core\n",
      " 0.0, 0.0, 0.125 0\n",
      "LJ core\n",
      " 0.0, 0.0, 0.25 0\n",
      "LJ core\n",
      " 0.0, 0.0, 0.375 0\n",
      "LJ core\n",
      " 0.\n"
     ]
    }
   ],
   "source": [
    "from itertools import product\n",
    "from copy import deepcopy\n",
    "\n",
    "\n",
    "fractional_positions = [\n",
    "    0,\n",
    "    0.125,\n",
    "    0.25,\n",
    "    0.375,\n",
    "    0.5,\n",
    "    0.625,\n",
    "    0.75,\n",
    "    0.875\n",
    "]\n",
    "\n",
    "positions = product(fractional_positions, repeat=3)\n",
    "for pos in positions:\n",
    "    working = deepcopy(lj_atom)\n",
    "    working.set_position(pos[0], pos[1], pos[2])\n",
    "    lj_mol.add_atom(working)\n",
    "\n",
    "test_config.nummol = [1,1]\n",
    "\n",
    "test_config.molecules = [to_dict(lj_mol)]\n",
    "print(str(test_config)[:220])"
   ]
  },
  {
   "cell_type": "markdown",
   "id": "0cd9b801",
   "metadata": {},
   "source": [
    "As you can see from the top of the file, we've now got the right number of atoms in the CONFIG object and their positions seems to be uniformly distributed."
   ]
  },
  {
   "cell_type": "markdown",
   "id": "93dff142",
   "metadata": {},
   "source": [
    "CONTROL\n",
    "-------\n",
    " \n",
    "The CONTROL provides directives to DL_MONTE how to undertake the calculations and switches on or off functionality. The CONTROL file in this example is:\n",
    "\n",
    "```\n",
    "   NVT simulation of Lennard-Jones fluid\n",
    "   #use ortho\n",
    "   finish\n",
    "   seeds 12 34 56 78               # Seed RNG seeds explicitly to the default\n",
    "   nbrlist auto                    # Use a neighbour list to speed up energy calculations\n",
    "   maxnonbondnbrs 512              # Maximum number of neighbours in neighbour list\n",
    "   temperature     1.4283461511745 # T* = 1.1876 = T(K) * BOLTZMAN (see constants_module.f90)\n",
    "   steps          10000            # Number of moves to perform in simulation\n",
    "   equilibration    0              # Equilibration period: statistics are gathered after this period\n",
    "   print           1000            # Print statistics every 'print' moves\n",
    "   stack           1000            # Size of blocks for block averaging to obtain statistics\n",
    "   sample coord   10000            # How often to print configurations to ARCHIVE.000\n",
    "   revconformat dlmonte            # REVCON file is in DL_MONTE CONFIG format\n",
    "   archiveformat dlpoly4           # ARCHIVE.000/HISTORY.000/TRAJECTORY.000 format \n",
    "                                   # In this case: HISTORY.000 in DLPOLY4 style\n",
    "   move atom 1 100                 # Move atoms with a weight of 100\n",
    "   LJ core\n",
    "   start\n",
    "```\n",
    "\n",
    "The first line is the title and the second contains the keyword *finish*. \n",
    "We will see later that there a number of directives in DL_MONTE that can only occur before this directive which *must* be present in the CONTROL file.\n",
    "\n",
    "*Seeds* followed by a series of 4 integers provides a reproducible seed, otheriwse *ranseed* generates a random seed from the system clock at initialisation.\n",
    "\n",
    "The diretives *nbrlist* and *maxnonbondnbrs* control the size and administration of the neighbourlist used by DL_MONTE to optimise performance, and are explained further in one of the exercises.\n",
    "\n",
    "*Temperature* (K) is self explanatory while *steps* is the length of the simulation in attempted  moves.\n",
    "NOTE: Providing that LJ epsilon = 1.0 in FIELD, the reduced LJ temperature $T* = T(K)*R$, where R = BOLTZMAN (see constants_module.f90 or $\\beta = 1/RT(K)$ in OUTPUT.000). In general, $T* = RT(K)/\\epsilon = 1/(\\epsilon*\\beta)$, where epsilon is in *internal energy units*.\n",
    "\n",
    "*Equilibration* etc control the detail of how data is output from DL_MONTE.\n",
    "\n",
    "The *revconformat dlmonte* instruction describes the format of the output file REVCON.000 which contains the final configuration of the simulation and can be used for continuing a simulation, *dlpoly2*, *dlpoly4* are other options.\n",
    "\n",
    "*archiveformat dlpoly4* describes the format of the trajectory file here it will be HISTORY.000, equivalent of the HISTORY in DLPOLY4.  The *dlpoly{2,4}* formats are readable by common visualisation packages such as vmd.  Full options are detailed in the manual.\n",
    "\n",
    "The directive *move atoms* is where we begin to touch on the fundamental control of the simulation.\n",
    "The key feature here is that DL_MONTE will not do anything unless told to do so (N.B. While this gives DL_MONTE great flexibility it means also means that it may be possible to ask DL_MONTE to perform ill-defined calculations). \n",
    "In this simple *NVT* ensemble only the particles move, thus *move atoms* tells DL_MONTE to move *1* atom type, with a weight of  *100*. \n",
    "The line(s) following this detail the atom and type.\n",
    "\n",
    "Finally the *start* directive ends the *CONTROL* file and instructs DL_MONTE to start the simulation.\n"
   ]
  },
  {
   "cell_type": "markdown",
   "id": "dd8bfc5a",
   "metadata": {},
   "source": [
    "### Setting up a CONTROL file with dlmontepython\n",
    "As with before, we can setup a CONTROL file with the appropriate module in `dlmontepython.htk.sources`:"
   ]
  },
  {
   "cell_type": "code",
   "execution_count": 10,
   "id": "b20707ea",
   "metadata": {
    "ExecuteTime": {
     "end_time": "2022-10-12T14:20:16.943449Z",
     "start_time": "2022-10-12T14:20:16.878925Z"
    }
   },
   "outputs": [
    {
     "name": "stdout",
     "output_type": "stream",
     "text": [
      "NVT simulation of Lennard-Jones fluid\n",
      "None\n",
      "None\n"
     ]
    }
   ],
   "source": [
    "from dlmontepython.htk.sources import dlcontrol\n",
    "\n",
    "test_control = dlcontrol.CONTROL(\n",
    "    title=\"NVT simulation of Lennard-Jones fluid\"\n",
    ")\n",
    "print(test_control)"
   ]
  },
  {
   "cell_type": "markdown",
   "id": "8ebbc535",
   "metadata": {},
   "source": [
    "This empty CONTROL object has no simulaiton parameters in it yet - we provide these through the `UseBlock` and `MainBlock` objects. \n",
    "The `UseBlock` object defines some overarching aspects of the simulation which will be explained in later tutorials. \n",
    "For this tutorial, we will define just about everything from the `MainBlock` object."
   ]
  },
  {
   "cell_type": "code",
   "execution_count": 11,
   "id": "a4ec3118",
   "metadata": {
    "ExecuteTime": {
     "end_time": "2022-10-12T14:20:16.958430Z",
     "start_time": "2022-10-12T14:20:16.946399Z"
    }
   },
   "outputs": [
    {
     "name": "stdout",
     "output_type": "stream",
     "text": [
      "finish use-block\n",
      "start simulation\n"
     ]
    }
   ],
   "source": [
    "test_use = dlcontrol.UseBlock()\n",
    "print(test_use)\n",
    "test_main = dlcontrol.MainBlock()\n",
    "print(test_main)"
   ]
  },
  {
   "cell_type": "markdown",
   "id": "86d35a0c",
   "metadata": {},
   "source": [
    "By adding these in to the `CONTROL` object, we can set the simulation parameters through `CONTROL`'s various class methods."
   ]
  },
  {
   "cell_type": "code",
   "execution_count": 12,
   "id": "d2bdc469",
   "metadata": {
    "ExecuteTime": {
     "end_time": "2022-10-12T14:20:16.973428Z",
     "start_time": "2022-10-12T14:20:16.960403Z"
    }
   },
   "outputs": [
    {
     "name": "stdout",
     "output_type": "stream",
     "text": [
      "NVT simulation of Lennard-Jones fluid\n",
      "finish use-block\n",
      "start simulation\n"
     ]
    }
   ],
   "source": [
    "test_control.use_block = test_use\n",
    "test_control.main_block = test_main\n",
    "print(test_control)"
   ]
  },
  {
   "cell_type": "code",
   "execution_count": 13,
   "id": "ea96ac2f",
   "metadata": {
    "ExecuteTime": {
     "end_time": "2022-10-12T14:20:16.988395Z",
     "start_time": "2022-10-12T14:20:16.974394Z"
    }
   },
   "outputs": [
    {
     "name": "stdout",
     "output_type": "stream",
     "text": [
      "NVT simulation of Lennard-Jones fluid\n",
      "finish use-block\n",
      "seeds 12 34 56 78\n",
      "nbrlist auto\n",
      "maxnonbondnbrs 512\n",
      "temperature 1.4283461511745\n",
      "steps 10000\n",
      "equilibration 0\n",
      "print 1000\n",
      "stack 1000\n",
      "revconformat dlmonte\n",
      "archiveformat dlmonte\n",
      "sample coord 10000\n",
      "start simulation\n"
     ]
    }
   ],
   "source": [
    "test_control.set_seeds(\n",
    "    i = 12,\n",
    "    j = 34,\n",
    "    k = 56,\n",
    "    l = 78\n",
    ")\n",
    "test_control.main_block.statements['nbrlist'] = \"auto\"\n",
    "test_control.main_block.statements['maxnonbondnbrs'] = 512\n",
    "test_control.set_temperature(1.4283461511745)\n",
    "test_control.set_steps(10000)\n",
    "test_control.set_equilibration(0)\n",
    "test_control.set_print(1000)\n",
    "test_control.set_stack(1000)\n",
    "test_control.main_block.samples['coord'] = {'0': 10000}\n",
    "test_control.main_block.statements[\"revconformat\"] = \"dlmonte\"\n",
    "test_control.main_block.statements[\"archiveformat\"] = \"dlmonte\"\n",
    "\n",
    "print(test_control)"
   ]
  },
  {
   "cell_type": "markdown",
   "id": "2766880a",
   "metadata": {},
   "source": [
    "Finally, we can add in the Monte Carlo move as an MCMove object from `dlmontepython.htk.sources.dlmove`"
   ]
  },
  {
   "cell_type": "code",
   "execution_count": 14,
   "id": "9b87a161",
   "metadata": {
    "ExecuteTime": {
     "end_time": "2022-10-12T14:20:17.308117Z",
     "start_time": "2022-10-12T14:20:17.290153Z"
    }
   },
   "outputs": [
    {
     "name": "stdout",
     "output_type": "stream",
     "text": [
      "move atom 1 100\n",
      "LJ core\n"
     ]
    }
   ],
   "source": [
    "from dlmontepython.htk.sources import dlmove\n",
    "\n",
    "test_move =dlmove.AtomMove(\n",
    "    pfreq=100,\n",
    "    movers = [{\"id\": 'LJ core'}]\n",
    ")\n",
    "print(test_move)\n",
    "test_control.main_block.moves.append(test_move)\n"
   ]
  },
  {
   "cell_type": "code",
   "execution_count": 15,
   "id": "c181c3d4",
   "metadata": {
    "ExecuteTime": {
     "end_time": "2022-10-12T14:20:17.701232Z",
     "start_time": "2022-10-12T14:20:17.690200Z"
    }
   },
   "outputs": [
    {
     "name": "stdout",
     "output_type": "stream",
     "text": [
      "NVT simulation of Lennard-Jones fluid\n",
      "finish use-block\n",
      "seeds 12 34 56 78\n",
      "nbrlist auto\n",
      "maxnonbondnbrs 512\n",
      "temperature 1.4283461511745\n",
      "steps 10000\n",
      "equilibration 0\n",
      "print 1000\n",
      "stack 1000\n",
      "revconformat dlmonte\n",
      "archiveformat dlmonte\n",
      "sample coord 10000\n",
      "move atom 1 100\n",
      "LJ core\n",
      "start simulation\n"
     ]
    }
   ],
   "source": [
    "print(test_control)"
   ]
  },
  {
   "cell_type": "markdown",
   "id": "5924e6b9",
   "metadata": {},
   "source": [
    "Finally, the `CONTROL` object appears complete. Let's just check it against the provided example:"
   ]
  },
  {
   "cell_type": "code",
   "execution_count": 16,
   "id": "ffb8110b",
   "metadata": {
    "ExecuteTime": {
     "end_time": "2022-10-12T14:20:18.429778Z",
     "start_time": "2022-10-12T14:20:18.418752Z"
    }
   },
   "outputs": [
    {
     "name": "stdout",
     "output_type": "stream",
     "text": [
      "['  NVT simulation of Lennard-Jones fluid',\n",
      " '- finish',\n",
      " '+ finish use-block',\n",
      " '  seeds 12 34 56 78',\n",
      " '  nbrlist auto',\n",
      " '  maxnonbondnbrs 512',\n",
      " '  temperature 1.4283461511745',\n",
      " '  steps 10000',\n",
      " '  equilibration 0',\n",
      " '  print 1000',\n",
      " '  stack 1000',\n",
      " '+ revconformat dlmonte',\n",
      " '+ archiveformat dlmonte',\n",
      " '  sample coord 10000',\n",
      " '- revconformat dlmonte',\n",
      " '- archiveformat dlpoly4',\n",
      " '- ',\n",
      " '  move atom 1 100',\n",
      " '  LJ core',\n",
      " '- start',\n",
      " '+ start simulation']\n"
     ]
    }
   ],
   "source": [
    "given = \"\"\"NVT simulation of Lennard-Jones fluid\n",
    "finish\n",
    "seeds 12 34 56 78\n",
    "nbrlist auto\n",
    "maxnonbondnbrs 512\n",
    "temperature 1.4283461511745\n",
    "steps 10000\n",
    "equilibration 0\n",
    "print 1000\n",
    "stack 1000\n",
    "sample coord 10000\n",
    "revconformat dlmonte\n",
    "archiveformat dlpoly4\n",
    "\n",
    "move atom 1 100\n",
    "LJ core\n",
    "start\"\"\".splitlines(keepends=False)\n",
    "\n",
    "generated = str(test_control).splitlines(keepends=False)\n",
    "\n",
    "result = list(D.compare(given, generated))\n",
    "pprint(result)"
   ]
  },
  {
   "cell_type": "markdown",
   "id": "9367049f",
   "metadata": {},
   "source": [
    "## Setting up a simulation\n",
    "Now that we have our `CONTROL`, `CONFIG`, and `FIELD` objects defined, let's get them printed out to a directory to test they run!"
   ]
  },
  {
   "cell_type": "code",
   "execution_count": 17,
   "id": "5753aaad",
   "metadata": {
    "ExecuteTime": {
     "end_time": "2022-10-12T14:20:19.163608Z",
     "start_time": "2022-10-12T14:20:19.145706Z"
    }
   },
   "outputs": [],
   "source": [
    "import os\n",
    "try:\n",
    "    os.mkdir('./tutorial_1_simulation')\n",
    "except FileExistsError:\n",
    "    pass\n",
    "with open('./tutorial_1_simulation/CONTROL', 'w') as f:\n",
    "    f.write(str(test_control))\n",
    "    \n",
    "with open('./tutorial_1_simulation/FIELD', 'w') as f:\n",
    "    f.write(str(test_field))\n",
    "    \n",
    "with open('./tutorial_1_simulation/CONFIG', 'w') as f:\n",
    "    f.write(str(test_config))\n",
    "    "
   ]
  },
  {
   "cell_type": "markdown",
   "id": "afeac7ac",
   "metadata": {},
   "source": [
    "To test the simulation you'll need to open a terminal, navigate to `tutorial_1_simulation`, and run a compiled DL_MONTE executable. DL_MONTE will read in your files from the directory your terminal is in, simulate, and output to the same directory. Once done, head to tutorial 2!"
   ]
  }
 ],
 "metadata": {
  "kernelspec": {
   "display_name": "dlmontepython",
   "language": "python",
   "name": "dlmontepython"
  },
  "language_info": {
   "codemirror_mode": {
    "name": "ipython",
    "version": 3
   },
   "file_extension": ".py",
   "mimetype": "text/x-python",
   "name": "python",
   "nbconvert_exporter": "python",
   "pygments_lexer": "ipython3",
   "version": "3.10.2"
  },
  "toc": {
   "base_numbering": 1,
   "nav_menu": {},
   "number_sections": true,
   "sideBar": true,
   "skip_h1_title": true,
   "title_cell": "Table of Contents",
   "title_sidebar": "Contents",
   "toc_cell": false,
   "toc_position": {},
   "toc_section_display": true,
   "toc_window_display": false
  }
 },
 "nbformat": 4,
 "nbformat_minor": 5
}
