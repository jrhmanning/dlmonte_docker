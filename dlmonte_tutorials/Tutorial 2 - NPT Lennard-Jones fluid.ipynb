{
 "cells": [
  {
   "cell_type": "markdown",
   "id": "623d5712",
   "metadata": {},
   "source": [
    "TUTORIAL 2 : NPT Lennard-Jones fluid\n",
    "====================================\n",
    "\n",
    "Original authors: Andrey V. Brukhno (andrey.brukhno{at}stfc.ac.uk), James Grant (r.j.grant{at}bath.ac.uk), and John Purton (john.purton{at}stfc.ac.uk)\n",
    "\n",
    "Modified to use dlmontepython by Joe Manning (joseph.manning{at}manchester.ac.uk)"
   ]
  },
  {
   "cell_type": "markdown",
   "id": "c5055045",
   "metadata": {},
   "source": [
    "Introduction\n",
    "------------\n",
    "\n",
    "In the NpT ensemble number of particles, pressure and temperature (*N,p,T*) are kept constant, which implies that apart from the particle moves the volume is also allowed to vary.\n",
    "That is, an additional MC move, uniformly sampling the volume, is attempted with the acceptance probability:\n",
    "\n",
    "$$ P_{acc}([r_1,V_1] \\rightarrow [r_2,V_2]) = \\min(1, \\exp \\{- \\beta [U(r_2) - U(r_1) + p_{ext}(V_{2}-V_{1}) - N \\beta^{-1} \\ln(V_{2} / V_{1}) ] \\} ) $$\n",
    "where $p_{ext}$ is the external pressure. The particle coordinates are assumed to be scaled accordingly.\n",
    "\n",
    "NOTE: The last term under the exponent needs to be modified in the cases where, for example, linear dimensions of the (cubic) cell or $\\ln(V)$ are directly sampled instead of volume (keywords **linear** and **log** respectively).\n",
    "\n",
    "In order to proceed to NpT simulation, we will modify a copy of CONTROL file that we used in Tutorial 1 for NVT simulation, wherein we need to introduce the directives specifying the volume move and the accumulation of additional statistics. "
   ]
  },
  {
   "cell_type": "markdown",
   "id": "b4513302",
   "metadata": {},
   "source": [
    "### Setting up a CONTROL file with dlmontepython\n",
    "Last time we walked through building a control file step by step. This time we'll make it a bit faster! Note, we'll use identical input files from the previous tutorial, so feel free to look back and copy/paste or rebuild them from Tutorial 1.\n",
    "\n",
    "The control file: \n",
    "```\n",
    "   NPT simulation of Lennard-Jones fluid\n",
    "   use ortho\n",
    "   finish\n",
    "   seeds 12 34 56 78               # Seed RNG seeds explicitly to the default\n",
    "   nbrlist auto                    # Use a neighbour list to speed up \n",
    "                                   # energy calculations\n",
    "   maxnonbondnbrs 512              # Maximum number of neighbours in neighbour list\n",
    "   temperature     1.4283461511745 # Corresponds to T*=1.1876; \n",
    "                                   # T(in K) = T* / BOLTZMAN \n",
    "   pressure        0.0179123655568\n",
    "   steps          110000           # Number of moves to perform in simulation\n",
    "   equilibration   10000           # Equilibration period: statistics \n",
    "                                   #are gathered after this period\n",
    "   print           10000           # Print statistics every 'print' moves\n",
    "   stack           10000           # Size of blocks for block averaging to obtain statistics\n",
    "   sample coord    10000           # How often to print configurations to ARCHIVE.000\n",
    "   sample volume 1 1.0             # sample volume every V-step, with the bin size of 1 A^3\n",
    "   yamldata        1000            # collect YAML stats every 1000 move\n",
    "\n",
    "   revconformat  dlmonte           # REVCON file is in DL_MONTE CONFIG format\n",
    "   archiveformat dlpoly4           # ARCHIVE.000/HISTORY.000/TRAJECTORY.000 format \n",
    "                                   # In this case: HISTORY.000 in DLPOLY4 style\n",
    "   move atom 1 512                 # Move atoms with a weight of 512\n",
    "   LJ core \n",
    "   move volume cubic linear 1      # Move volume, box is cubic, \n",
    "                                   # linear scaling with a weight of 1\n",
    "   start\n",
    "```\n",
    "\n",
    "The directive to invoke volume moves is **move volume**. The parameters to specify in the present tutorial are **cubic**, **linear** and **1** for the weight of volume moves among other MC steps (see the manual for further details). Note that the weight of atom moves has been set to 512 (see **move atom** directive).\n",
    "Volume moves are more computationally intensive than single atom moves, so the *rule of thumb* is to attempt one volume move each time every atom has been attempted to move (so called \"pass\" or \"sweep\" through the system)."
   ]
  },
  {
   "cell_type": "code",
   "execution_count": 8,
   "id": "f1d15a26",
   "metadata": {
    "ExecuteTime": {
     "end_time": "2022-07-28T18:15:41.185005Z",
     "start_time": "2022-07-28T18:15:41.175006Z"
    }
   },
   "outputs": [
    {
     "name": "stdout",
     "output_type": "stream",
     "text": [
      "NPT example\n",
      "use ortho \n",
      "finish use-block\n",
      "seeds 12 34 56 78\n",
      "nbrlist auto\n",
      "maxnonbondnbrs 512\n",
      "temperature 1.4283461511745\n",
      "pressure 0.0179123655568\n",
      "steps 110000\n",
      "equilibration 10000\n",
      "print 10000\n",
      "stack 10000\n",
      "yamldata 1000\n",
      "revconformat dlmonte\n",
      "archiveformat dlpoly4\n",
      "sample coords 10000\n",
      "sample volume 1 1\n",
      "move atom 1 512\n",
      "LJ core\n",
      "move volume cubic linear 1\n",
      "start simulation\n"
     ]
    }
   ],
   "source": [
    "from dlmontepython.htk.sources import dlcontrol, dlmove\n",
    "\n",
    "\n",
    "useblock = dlcontrol.UseBlock(use_statements={'ortho': None})\n",
    "\n",
    "moves = [\n",
    "    dlmove.AtomMove(pfreq=512, movers = [{\"id\": 'LJ core'}]),\n",
    "    dlmove.VolumeCubicMove(pfreq=1, sampling='linear')\n",
    "]\n",
    "\n",
    "samples = {\n",
    "    'coords': {'nfreq': 10000},\n",
    "    'volume': {'binsize': 1, 'nfreq': 1}\n",
    "    \n",
    "}\n",
    "\n",
    "mainblock = dlcontrol.MainBlock(\n",
    "    statements={\n",
    "        'seeds': {'seed0': 12, 'seed1': 34, 'seed2': 56, 'seed3': 78},\n",
    "        'nbrlist': 'auto',\n",
    "        'maxnonbondnbrs': 512,\n",
    "        'temperature': 1.4283461511745,\n",
    "        'pressure': 0.0179123655568,\n",
    "        'steps': 110000,\n",
    "        'equilibration': 10000,\n",
    "        'print': 10000,\n",
    "        'stack': 10000,\n",
    "        'yamldata': 1000,\n",
    "        'revconformat': 'dlmonte',\n",
    "        'archiveformat': 'dlpoly4'\n",
    "    },\n",
    "    samples=samples,\n",
    "    moves=moves\n",
    ")\n",
    "\n",
    "control = dlcontrol.CONTROL(\n",
    "    title='NPT example',\n",
    "    use_block=useblock,\n",
    "    main_block=mainblock\n",
    ")\n",
    "print(control)"
   ]
  },
  {
   "cell_type": "code",
   "execution_count": 11,
   "id": "0e64b7d3",
   "metadata": {
    "ExecuteTime": {
     "end_time": "2022-07-28T18:23:57.918930Z",
     "start_time": "2022-07-28T18:23:57.909930Z"
    }
   },
   "outputs": [],
   "source": [
    "import os\n",
    "import shutil\n",
    "try:\n",
    "    os.mkdir('./tutorial_2_simulation')\n",
    "except FileExistsError:\n",
    "    pass\n",
    "\n",
    "with open('./tutorial_2_simulation/CONTROL', 'w') as f:\n",
    "    f.write(str(control))\n",
    "\n",
    "shutil.copyfile('./tutorial_1_simulation/CONFIG', './tutorial_2_simulation/CONFIG')\n",
    "shutil.copyfile('./tutorial_1_simulation/FIELD', './tutorial_2_simulation/FIELD')"
   ]
  },
  {
   "cell_type": "markdown",
   "id": "b60af45b",
   "metadata": {},
   "source": [
    "### Running the simulation"
   ]
  },
  {
   "cell_type": "code",
   "execution_count": null,
   "id": "4636b465",
   "metadata": {},
   "outputs": [],
   "source": [
    "os.chdir('./tutorial_2_simulation/')\n",
    "!DLMONTE-SRL.X\n",
    "print(os.listdir())\n",
    "os.chdir('../')"
   ]
  },
  {
   "cell_type": "markdown",
   "id": "b85d13a6",
   "metadata": {},
   "source": [
    "Exercise\n",
    "--------\n",
    "\n",
    "Run the simulation as before, then we'll import the volume data from the YAMLDATA file"
   ]
  },
  {
   "cell_type": "code",
   "execution_count": null,
   "id": "bc2aab41",
   "metadata": {
    "ExecuteTime": {
     "end_time": "2022-09-30T10:57:03.516802Z",
     "start_time": "2022-09-30T10:56:49.520421Z"
    },
    "scrolled": true
   },
   "outputs": [],
   "source": [
    "import matplotlib.pyplot as plt\n",
    "from dlmontepython.htk.sources import dlptfile\n",
    "import pandas as pd\n",
    "\n",
    "yaml_out = dlptfile.load_yaml('./tutorial_2_simulation/')\n",
    "yaml_df = pd.DataFrame(yaml_out.data)\n",
    "yaml_df = yaml_df.set_index('timestamp')\n",
    "yaml_df.plot.line(y='volume')\n",
    "\n",
    "plt.show()"
   ]
  },
  {
   "cell_type": "markdown",
   "id": "d271a923",
   "metadata": {},
   "source": [
    "### Questions to ask yourself:\n",
    "* Would it help equilibration in the *NpT* ensemle to start the simulation after *NVT* equilibration?\n",
    "* What would be the effect of changing pressure and/or temperature?\n",
    "* How to *restart* the simulation for continuation?\n",
    "\n",
    "Try to increase the pressure and run a longer simulation starting with the last saved configuration (i.e. REVCON.000). "
   ]
  },
  {
   "cell_type": "markdown",
   "id": "ff3962ee",
   "metadata": {},
   "source": [
    "Alternative V-sampling schemes\n",
    "------------------------------\n",
    "\n",
    "It is also possible to conduct a random walk in the logarithm of the volume, by using the keyword **log** instead of **linear** in the directive **move volume**. This changes the way in which the move is generated: :math:`\\ln(V)` is varied rather than linear dimensions of the simulation cell. This type of V-sampling is often claimed to be more efficient due to direct *scaling* of volume. \n",
    "\n",
    "The acceptance probability for the volume moves is now\n",
    "\n",
    "\n",
    "$$\n",
    "  P_{\\mathrm{acc}}([\\mathbf{r}_{1},V_1] \\rightarrow [\\mathbf{r}_2,V_2]) = \\min(1, \\exp \\{- \\beta [U(\\mathbf{r}_2) - U(\\mathbf{r}_1) + P_{ext}(V_{2}-V_{1}) - ( N + 1 ) \\beta^{-1} \\ln(V_{2} / V_{1}) ] \\} )\n",
    "$$\n",
    "\n",
    "Often simulation cells will be orthorhombic (but not cubic), and more generally mono-/tri-clinic. For setting a more general volume move in these cases refer to the manual.\n",
    "         \n",
    "The fraction of accepted volume moves is affected by the directive **maxvolchange** setting the value of the *volume variation parameter* $\\Delta_V$. In the course of an NpT simulation this value is though automatically adjusted so that the acceptance ratio converges to the targeted value that can be set in the CONTROL file by the directive **acceptatmmoveratio \\<target ratio>** (0.37 by default). Additional directive **acceptvolupdate \\<stride>** determines the frequency of adjustments for $\\Delta_V$. \n",
    "\n",
    "\n"
   ]
  },
  {
   "cell_type": "code",
   "execution_count": null,
   "id": "9b02f315",
   "metadata": {},
   "outputs": [],
   "source": []
  }
 ],
 "metadata": {
  "kernelspec": {
   "display_name": "dlmontepython",
   "language": "python",
   "name": "dlmontepython"
  },
  "language_info": {
   "codemirror_mode": {
    "name": "ipython",
    "version": 3
   },
   "file_extension": ".py",
   "mimetype": "text/x-python",
   "name": "python",
   "nbconvert_exporter": "python",
   "pygments_lexer": "ipython3",
   "version": "3.10.2"
  },
  "toc": {
   "base_numbering": 1,
   "nav_menu": {},
   "number_sections": true,
   "sideBar": true,
   "skip_h1_title": true,
   "title_cell": "Table of Contents",
   "title_sidebar": "Contents",
   "toc_cell": false,
   "toc_position": {},
   "toc_section_display": true,
   "toc_window_display": true
  }
 },
 "nbformat": 4,
 "nbformat_minor": 5
}
