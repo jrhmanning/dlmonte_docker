{
 "cells": [
  {
   "cell_type": "markdown",
   "id": "60bd885f",
   "metadata": {},
   "source": [
    "TUTORIAL 5 : CO2 adsorption in a zeolite\n",
    "========================================\n",
    "\n",
    "Original authors: James Grant (r.j.grant{at}bath.ac.uk), Tom L. Underwood (t.l.underwood{at}bath.ac.uk)\n",
    "\n",
    "Modified to use dlmontepython by Joe Manning (joseph.manning{at}manchester.ac.uk)"
   ]
  },
  {
   "cell_type": "markdown",
   "id": "84f5084d",
   "metadata": {},
   "source": [
    "Introduction\n",
    "------------\n",
    "\n",
    "In this exercise you will evaluate the amount of $CO_2$ adsorbed in a siliceous zeolite under certain conditions.\n",
    "We use a Grand Canonical Monte Carlo simulation, in which Monte Carlo moves are performed which insert and remove $CO_2$ molecules from the system, alongside translational moves to explore the local environment.\n",
    "After a certain amount of simulation time, the number of $CO_2$ molecules will reflect the equilibrium concentration within the zeolite.\n",
    "You will examine the length of time required to run simulations under different conditions and how to analyse the data in order to construct an adsorption isotherm.\n",
    "Of course, there will be fluctuations in the number of $CO_2$ molecules about the 'true' average which you can also investigate."
   ]
  },
  {
   "cell_type": "markdown",
   "id": "91e23636",
   "metadata": {},
   "source": [
    "CONFIG\n",
    "------\n",
    "\n",
    "As always the CONFIG file contains the starting structure. \n",
    "If you examine the file you will see that the system contains two 'molecule' types: \n",
    "'zeolite', which contains silcon and oxygen atoms (labeled Si_S and O_S) making up the zeolite, and 'co2', which contains C (labeled C_) and O (labeled O_C). \n",
    "Initially, we have an empty 'zeolite' molecule  only.\n",
    "Your first objective is to visualise the structure and identify the different pore spaces. We can do this with [ASE](https://wiki.fysik.dtu.dk/ase/#)."
   ]
  },
  {
   "cell_type": "code",
   "execution_count": 20,
   "id": "14282c10",
   "metadata": {
    "ExecuteTime": {
     "end_time": "2022-08-11T11:37:01.268032Z",
     "start_time": "2022-08-11T11:36:54.572086Z"
    }
   },
   "outputs": [
    {
     "data": {
      "text/plain": [
       "<Popen: returncode: None args: ['C:\\\\Users\\\\d23895jm\\\\Anaconda3\\\\envs\\\\dlmon...>"
      ]
     },
     "execution_count": 20,
     "metadata": {},
     "output_type": "execute_result"
    }
   ],
   "source": [
    "from ase import Atoms\n",
    "from ase.visualize import view\n",
    "from scripts import ase_hack\n",
    "\n",
    "with open('./Tutorial_5_files/CONFIG', 'r') as f:\n",
    "    in_data = ase_hack.read_dlm(f)\n",
    "    framework = next(in_data)[0][1]\n",
    "    \n",
    "view(framework)"
   ]
  },
  {
   "cell_type": "markdown",
   "id": "08aea465",
   "metadata": {},
   "source": [
    "FIELD\n",
    "-----\n",
    "\n",
    "The FIELD file is shown below:\n",
    "\n",
    "```\n",
    "   Force fields and bond constraints for for CO2 in a zeolite (use EPM2 for VDW)\n",
    "   CUTOFF 12.0\n",
    "   UNITS kcal\n",
    "   NCONFIGS 1\n",
    "   ATOMS 5\n",
    "   Si_S core 28 2.4\n",
    "   O_S core 16 -1.2\n",
    "   C_ core 12 0.6512\n",
    "   O_C core 16 -0.3256\n",
    "   MOLTYPES 2\n",
    "   zeolite\n",
    "   MAXATOM 584\n",
    "   co2\n",
    "   ATOMS 3 3\n",
    "   C_ core  0.00000000 0.0000000 0.0000000\n",
    "   O_C core 1.16300000 0.0000000 0.0000000\n",
    "   O_C core -1.16300000 0.0000000 0.0000000\n",
    "   BONDS 3\n",
    "      1    2    1\n",
    "      1    3    1\n",
    "      2    3    2\n",
    "   FINISH\n",
    "   VDW       6\n",
    "   O_ core       C_ core       lj    0.094566874 2.892\n",
    "   O_ core       O_C core      lj    0.15998351 3.033\n",
    "   C_ core       C_ core       lj    0.055892323 2.757\n",
    "   C_ core       O_C core      lj    0.094566874 2.892\n",
    "   O_C core      O_C core      lj    0.15998351 3.033\n",
    "   BONDS 2\n",
    "   C_ core O_C core buck 0.0 0.1 0.0\n",
    "   O_C core O_C core buck 0.0 0.1 0.0\n",
    "   CLOSE\n",
    "```\n",
    "The first thing to note is that this system has charged atoms: \n",
    "Si and O\\_ in the zeolite, C and O in $CO_2$, and Xe, are assigned net charges of 2.4, -1.2, 0.72, -0.36 and 0 respectively.\n",
    "The Si and O\\_ potential is based on the [BKS](https://journals.aps.org/prl/abstract/10.1103/PhysRevLett.64.1955) potential.  \n",
    "Formally this uses a Buckingham potential but in this instance, for the purpose of generating cross terms for interaction with the $CO_2$ model, this has been fitted with a Lennard-Jones potential. \n",
    "The $CO_2$ is modelled with the [EPM](https://pubs.acs.org/doi/10.1021/j100031a034) model.\n",
    "The final vdw interaction is between the $CO_2$ oxygen atoms and the 'xenon' particles.\n",
    "These only have a strong repulsive interaction with the $CO_2$ oxygens."
   ]
  },
  {
   "cell_type": "markdown",
   "id": "9f398259",
   "metadata": {},
   "source": [
    "CONTROL\n",
    "-------\n",
    "\n",
    "The CONTROL file is shown below:\n",
    "\n",
    "```\n",
    "   GCMC simulation of CO2 in zeolite\n",
    "   use gaspressure              # input is in partial pressure in GCMC moves \n",
    "                                # (as opposed to chemical potential)\n",
    "   finish\n",
    "   temperature       273.0\n",
    "   acceptmolmoveupdate  200     # Period (in moves) at which the\n",
    "                                # maximum move size is recalculated\n",
    "   acceptmolrotupdate  200      # Period (in moves) at which the \n",
    "                                # maximum rotation angle is updated\n",
    "   steps             100000     # Number of moves to perform in simulation\n",
    "   equilibration     50000      # Equilibration time before statistics \n",
    "                                # are gathered (in moves)\n",
    "   print               1000     # Information is output every 'print' moves\n",
    "   revconformat dlmonte         # REVCON file is in DL_POLY CONFIG format\n",
    "   archiveformat dlpoly4        # ARCHIVE/trajectory file format\n",
    "                                # NB. No support yet for GCMC tracjectories\n",
    "   stack              10000     # Size of blocks (in moves) for block averaging\n",
    "   maxmolrot           0.005    # Initial maximum rotation angle (degrees)\n",
    "   yamldata           1000\n",
    "   move molecule 1 20           # Perform translation moves for \n",
    "                                # 1 molecule type weight 20\n",
    "   co2                          # move co2 molecule type\n",
    "   move rotatemol 1 20          # Perform rotation moves for \n",
    "                                # 1 molecule type weight 20\n",
    "   co2                          # rotate co2 molecule type\n",
    "   move gcinsertmol 1 60 0.5    # Perform insertion/removal moves \n",
    "                                # with 1 molecule type weight 60\n",
    "                                # with a min. distance of 0.5 from existing\n",
    "                                # atoms for inserts\n",
    "   co2 0.0001                   # Insert/remove CO2 with a \n",
    "                                # partial pressure of 0.0001 katm\n",
    "   start\n",
    "```\n",
    "\n",
    "Note that we are now using *molecular* moves which translate (*move molecule*) and rotate (*move rotatemol*) the CO2 molecules, but we do not use *atomic* moves which translate the atoms within the molecules.\n",
    "The CO2 are therefore considered as rigid molecules during the simulation. This restriction typically has to be in place for standard GCMC in order to satisfy detailed balance.\n",
    "GC moves are introduced by the *move gcinsertmol* directive.\n",
    "As with the other move types the first number is the number of molecules we will be inserting/deleting and the second is the weight given to GC moves.\n",
    "An additional feature is the ability to automatically reject moves with would result in any atom of the molecule lying within a specified distance of any atom already in the system.\n",
    "In order to satisfy detailed balance this should be smaller than the closest distance you would expect atoms to approach."
   ]
  },
  {
   "cell_type": "markdown",
   "id": "e8a06c4f",
   "metadata": {},
   "source": [
    "### Exercise 1: run a simulation at the first pressure point and calculate the equilibium concentration"
   ]
  },
  {
   "cell_type": "code",
   "execution_count": 37,
   "id": "37c4a475",
   "metadata": {
    "ExecuteTime": {
     "end_time": "2022-08-11T12:01:31.505589Z",
     "start_time": "2022-08-11T12:01:31.277608Z"
    }
   },
   "outputs": [
    {
     "name": "stdout",
     "output_type": "stream",
     "text": [
      "Mean adsorbed amount: 3.870 ± 1.809\n"
     ]
    },
    {
     "data": {
      "image/png": "[encoded data removed]",
      "text/plain": [
       "<Figure size 432x288 with 1 Axes>"
      ]
     },
     "metadata": {
      "needs_background": "light"
     },
     "output_type": "display_data"
    }
   ],
   "source": [
    "from dlmontepython.htk.sources import dlptfile\n",
    "import pandas as pd\n",
    "import numpy as np\n",
    "from pymbar import timeseries\n",
    "\n",
    "# Your code here!\n",
    "yaml_out = dlptfile.load_yaml('./Tutorial_5_files/')\n",
    "yaml_df = pd.DataFrame(yaml_out.data)\n",
    "yaml_df.nmol = yaml_df['nmol'].apply(lambda x: int(x[1]))\n",
    "yaml_df = yaml_df.set_index('timestamp')\n",
    "yaml_df.plot.line(y='nmol')\n",
    "\n",
    "t0, g, Neff_max = timeseries.detectEquilibration(yaml_df['nmol']) # compute indices of uncorrelated timeseries\n",
    "A_t_equil = np.array(yaml_df['nmol'][t0:])\n",
    "indices = timeseries.subsampleCorrelatedData(A_t_equil, g=g)\n",
    "A_n = A_t_equil[indices]\n",
    "print(f'Mean adsorbed amount: {np.mean(A_n):.3f} ± {np.std(A_n):.3f}')"
   ]
  },
  {
   "cell_type": "markdown",
   "id": "5ef4aa43",
   "metadata": {},
   "source": [
    "Partial Pressure, Activity and Chemical Potential\n",
    "-------------------------------------------------\n",
    "\n",
    "The *use gaspressure* directive specified at the beginning of the CONTROL file means that the partial pressure of the gas, rather than the activity is specified.\n",
    "\n",
    "$$\n",
    "a = \\gamma \\frac{P}{P_0},\n",
    "$$\n",
    "where $a$ is the activity, $\\gamma=1$ is the gas fraction assumed to be *1*, and $P$ and $P_0$ the pressure and reference pressure respectively.\n",
    "Note that DL_MONTE introduces a further converesion factor, dividing by 0.163882576 to convert to internal units.\n",
    "\n",
    "The activity relates to chemical potential according to\n",
    "\n",
    "$$\n",
    "    a = \\exp((\\mu - \\mu_0)/RT)\n",
    "$$\n",
    "where $\\mu$ and $\\mu_0$ are the chemical potential and refernce chemical potential, *R* gas constant and *T* temperature."
   ]
  },
  {
   "cell_type": "markdown",
   "id": "9adbc7ac",
   "metadata": {},
   "source": [
    "### Exercise 2: Trace an Adsorption Isotherm\n",
    "\n",
    "We are interested in the number of adsorbed $CO_2$ molecules as a function of pressure. Using the code from exercise 1, can you rerun the simulation at several fugacity values and to calculate the total isotherm?\n",
    "\n",
    "At the initial conditions specified in the CONTROL file, the number of adsorbed molecules is small because this corresponds to a relatively low partial pressure of $CO_2$.\n",
    "As we increase the partial pressure the number of $CO_2$ molecules adsorbed will increase.\n",
    "Making sure you copy your output to different folders for each calculation. Increase the partial pressure until the zeolite is saturated.\n",
    "Compare the time sequences and final averages and fluctuations to make an initial estimate of the adsorption isotherm.\n",
    "\n",
    "What do these initial results show would you need to consider to ensure the accuracy of your calcuation?"
   ]
  },
  {
   "cell_type": "code",
   "execution_count": null,
   "id": "4913dd29",
   "metadata": {},
   "outputs": [],
   "source": []
  }
 ],
 "metadata": {
  "kernelspec": {
   "display_name": "dlmontepython",
   "language": "python",
   "name": "dlmontepython"
  },
  "language_info": {
   "codemirror_mode": {
    "name": "ipython",
    "version": 3
   },
   "file_extension": ".py",
   "mimetype": "text/x-python",
   "name": "python",
   "nbconvert_exporter": "python",
   "pygments_lexer": "ipython3",
   "version": "3.10.2"
  },
  "toc": {
   "base_numbering": 1,
   "nav_menu": {},
   "number_sections": true,
   "sideBar": true,
   "skip_h1_title": true,
   "title_cell": "Table of Contents",
   "title_sidebar": "Contents",
   "toc_cell": false,
   "toc_position": {},
   "toc_section_display": true,
   "toc_window_display": false
  }
 },
 "nbformat": 4,
 "nbformat_minor": 5
}
