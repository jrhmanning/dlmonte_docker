{
 "cells": [
  {
   "cell_type": "markdown",
   "id": "816c5cfd",
   "metadata": {},
   "source": [
    "# Tutorial 6: Introducing `simtask`\n",
    "\n",
    "Original authors: Joe Manning (joseph.manning{at}manchester.ac.uk) and Tom L. Underwood (tlu20{at}bath.ac.uk) "
   ]
  },
  {
   "cell_type": "markdown",
   "id": "7f7c519e",
   "metadata": {},
   "source": [
    "## Introduction\n",
    "\n",
    "The previous tutorial was rather laborious - DL_MONTE will only run one pressure point per simulation, so to calculate an isotherm, a sequence of almost identical simulations and analyes are required. \n",
    "While it's possible to run these manually, it's far easier to automate the workflows such that all you need to do is provide a simulation _template_ + a list of parameters, and a complete isotherm will fall out. \n",
    "This is the goal of the `simtask` module in the `dlmontepython` library, as described in [this paper](https://arxiv.org/abs/2104.03822).\n",
    "\n",
    "`simtask` is set up to run DL_MONTE directly through python, by defining an _interface_ to the executable. \n",
    "You will then need to define a few simulation _observables_, which provide a pointer for the simulation postprocessing. \n",
    "Finally, you'll need to provide a set of template input files, which I've prepared for you from the previous tutorial example (located in './Tutorial_6_files'). \n",
    "\n",
    "### How does `simtask` work?\n",
    "We now briefly describe the key features of `simtask` with the aim of elucidating how it works. The `simtask.task` module is the heart of the package. This contains the two key Python classes, `Task` and `TaskInterface`.\n",
    "\n",
    "`Task` - This is the base class corresponding to a simulation 'task', i.e. something you want to do via simulation. E.g. in the example below the 'task' is to evaluate the energy and density via grand-canonical Monte Carlo simulation. `Task` is an abstract class in the sense that it does nothing. It is subclasses of `Task` which correspond to different possible tasks, and contain code for performing these tasks. For instance the `Measurement` class is a subclass of `Task` which calculates one or more observables at a given set of thermodynamic conditions. This is used in our example below. \n",
    "\n",
    "The code for `Task` subclasses for performing simulation tasks is *general*; it is not specific to a simulation program, e.g. `DL_MONTE`. This is achieved by `Task` subclasses drawing only upon functions within the `TaskInterface` class for simulation-program-specific code. These functions constitute common things one may wish to do during a task (e.g. copy input files to a new directory, run a simulation in that directory, extract the energy from the output files of a directory), common things which can be combined into complex tasks. To enable `simtask` to be used with a given simulation program, one must write a subclass of `TaskInterface` which overloads the functions in `TaskInterface` with functions which are appropriate for that simulation code. For instance, `DLMonteInterface` is the subclass of `TaskInterface` which contains functions appropriate for the simulation program `DL_MONTE`. To perform a task in conjunction with `DL_MONTE`, the relevant `Task` subclass, e.g. `Measurement`, simply 'links' to the `DLMonteInterface`, which results in `Measurement` calling the `DL_MONTE`-specific functions for the common things during its invocation.\n",
    "\n",
    "This set-up separates the code pertaining to the task one is interested in performing from the code specific to the simulation program one will use to perform that task. `Task` subclasses will in principle work for *any* simulation program which has an existing `TaskInterface`. Conversely, simulation programs which have an existing `TaskInterface` will work for any future `Task` subclasses.\n",
    "\n",
    "\n",
    "To get started, let's import all the required modules for our simulation task."
   ]
  },
  {
   "cell_type": "code",
   "execution_count": 3,
   "id": "4a67727d",
   "metadata": {
    "ExecuteTime": {
     "end_time": "2022-08-11T14:07:38.625301Z",
     "start_time": "2022-08-11T14:07:38.618327Z"
    }
   },
   "outputs": [],
   "source": [
    "import dlmontepython.simtask.dlmonteinterface as interface\n",
    "import dlmontepython.simtask.measurement as measurement\n",
    "import dlmontepython.simtask.analysis as analysis\n",
    "import dlmontepython.simtask.task as task"
   ]
  },
  {
   "cell_type": "markdown",
   "id": "84b3b325",
   "metadata": {},
   "source": [
    "We now set up the relevant `TaskInterface` object, which tells the low-level machinery in `simtask` which simulation program will be used to perform the simulations, and how to perform various jobs specific to that program, e.g. extracting the energy from output files created by the program. In this case we use `DL_MONTE` to perform our simulations; thus the `TaskInterface` class we will use is `DLMonteInterface` (`DLMonteInterface` is a subclass of `TaskInterface`; see above). The code below creates a new `DLMonteInterface` object, which is linked to the relevant `DL_MONTE` executable. Later this object will be 'linked' to the relevant `Task` object before the task is performed.\n",
    "\n",
    "Note that the `DLMonteInterface` object must be provided the location and name of the `DL_MONTE` executable on your local system. In the example below 'DL_MONTE-SRL.X' is used as a placeholder; you must alter that string in the code below to reflect your local system."
   ]
  },
  {
   "cell_type": "code",
   "execution_count": 4,
   "id": "17f2d85d",
   "metadata": {
    "ExecuteTime": {
     "end_time": "2022-08-11T14:07:39.390308Z",
     "start_time": "2022-08-11T14:07:39.385332Z"
    }
   },
   "outputs": [],
   "source": [
    "# The line below creates a DL_MONTE-specific interface. Note that the interface \n",
    "# must know the location of the DL_MONTE executable - which is specified as the \n",
    "# argument to the DLMonteInterface constructor.\n",
    "# You will have to adapt the location of the executable to suit your local system.\n",
    "\n",
    "interface = interface.DLMonteInterface(\"DLMONTE-SRL.X\")"
   ]
  },
  {
   "cell_type": "markdown",
   "id": "474626b9",
   "metadata": {},
   "source": [
    "## Defining `Observable`s\n",
    "\n",
    "Set up a list of 'observables' to track and analyse. \n",
    "Observables must be `Observable` objects, and the nature of `Observable` objects may vary between simulation codes. For DL_MONTE, only observables corresponding to variables output periodically in YAMLDATA are currently supported. \n",
    "For a variable 'foo' specified in the YAMLDATA file the corresponding `Observable` object is returned by the command `task.Observable( (\"foo\",) )`. \n",
    "**Note the essential comma after \"foo\"!** \n",
    "\n",
    "For a variable in YAMLDATA which is an array (e.g., 'nmol'), the observable corresponding to the nth element in the array is returned by the command `task.Observable( (\"foo\",n-1) )`. \n",
    "See below: `energy_obs` corresponds to the 'energy' variable in YAMLDATA, and `nmol_obs` corresponds to the 2nd element in the 'nmol' array in YAMLDATA (which in fact is the number of molecules belonging to the 1st molecular species)."
   ]
  },
  {
   "cell_type": "code",
   "execution_count": 5,
   "id": "7fecd322",
   "metadata": {
    "ExecuteTime": {
     "end_time": "2022-08-11T14:07:40.440781Z",
     "start_time": "2022-08-11T14:07:40.424779Z"
    }
   },
   "outputs": [],
   "source": [
    "energy_obs = task.Observable( (\"energy\",) )\n",
    "nmol_obs = task.Observable( (\"nmol\",1) )\n",
    "observables = [ energy_obs, nmol_obs ]"
   ]
  },
  {
   "cell_type": "markdown",
   "id": "7fc4251b",
   "metadata": {},
   "source": [
    "### Termination criteria\n",
    "\n",
    "The `Measurement` class will perform back-to-back simulations until one of a number of customisable criteria have been met. The criteria are determined by the arguments passed to the constructor of the `Measurement` object. For now we apply two criteria. The first is that the energy is evaluated to a precision of 0.2 (energy units), i.e. the back-to-back simulations are terminated if the statistical uncertainty in the energy is less than this precision. The second criterion is that the number of back-to-back simulations does not exceed 20. The below code creates a `Measurement` object with the aforementioned criteria. Moreover we set the name of the directory in which the simulations are to be performed as `fixedprecision`."
   ]
  },
  {
   "cell_type": "code",
   "execution_count": 6,
   "id": "c4c24518",
   "metadata": {
    "ExecuteTime": {
     "end_time": "2022-08-11T14:07:41.280785Z",
     "start_time": "2022-08-11T14:07:41.272785Z"
    }
   },
   "outputs": [],
   "source": [
    "precisions = { energy_obs : 0.2 }"
   ]
  },
  {
   "cell_type": "markdown",
   "id": "2593aa04",
   "metadata": {},
   "source": [
    "## Defining a `Measurement`\n",
    "Set up the relevant Measurement object - which will actually perform the simulations and data analysis.\n",
    "Note that all the simulations and output files pertaining to analysis will be created in the directory'fixedprecision' (via the 'outputdir' argument), and that we will impose a threshold precision on the energy as implied by the dictionary 'precisions' described above. Furthermore, we specify that no more than 20 simulations will ever be performed (via the 'maxsims' argument)"
   ]
  },
  {
   "cell_type": "code",
   "execution_count": 7,
   "id": "9ae3e123",
   "metadata": {
    "ExecuteTime": {
     "end_time": "2022-08-11T14:07:42.045739Z",
     "start_time": "2022-08-11T14:07:42.033736Z"
    }
   },
   "outputs": [],
   "source": [
    "m = measurement.Measurement(interface, observables, maxsims=20, precisions=precisions, outputdir='./fixedprecision')"
   ]
  },
  {
   "cell_type": "markdown",
   "id": "71958e68",
   "metadata": {},
   "source": [
    "### Running the task\n",
    "\n",
    "As mentioned above, the task is invoked via the command\n",
    "\n",
    "```python\n",
    "m.run()\n",
    "```\n",
    "\n",
    "#### Troubleshooting\n",
    "\n",
    "If you encounter a problem with running the next block of code, one possible reason is that the path to the `DL_MONTE` executable used to initialise the `DLMonteInterface` object above does not exist, or is wrong.\n",
    "\n",
    "Also, you may encounter issues running this next cell on windows, so I've provided a python script for you to run the same simulation on Linux as required and continue on below."
   ]
  },
  {
   "cell_type": "code",
   "execution_count": null,
   "id": "e74d4b34",
   "metadata": {
    "ExecuteTime": {
     "end_time": "2022-08-11T14:08:06.655558Z",
     "start_time": "2022-08-11T14:08:00.937279Z"
    },
    "scrolled": false
   },
   "outputs": [],
   "source": [
    "import os\n",
    "import shutil\n",
    "from time import sleep\n",
    "\n",
    "os.chdir('./Tutorial_6_files/')\n",
    "if os.path.exists('fixedprecision'):\n",
    "    shutil.rmtree('fixedprecision')\n",
    "\n",
    "sleep(5)\n",
    "m.run()"
   ]
  },
  {
   "cell_type": "markdown",
   "id": "c8549667",
   "metadata": {},
   "source": [
    "## Data postprocessing and analysis\n",
    "Once the task is complete in the 'fixedprecision' directory there will be directories 'sim_1', 'sim_2', etc. containing the input and output files corresponding to each simulation. \n",
    "Note that 'sim_2' is a resumption of 'sim_1', 'sim_3' is a resumption of 'sim_2', etc. Furthermore the files 'energy_converge.dat' and 'nmol_0_converge.dat' contain, respectively, the mean and uncertainty in the energy and number of molecules after each simulation. \n",
    "Note that the uncertainty decreases as expected after each simulation. \n",
    "Note also that no more simulations were performed once the uncertainty in the energy was determined to within 0.2 (units of energy).\n",
    "\n",
    "Just like we did in the last few tutorials, let's visualize that with `pandas`!"
   ]
  },
  {
   "cell_type": "code",
   "execution_count": 30,
   "id": "fe05acf9",
   "metadata": {
    "ExecuteTime": {
     "end_time": "2022-08-11T14:56:44.720804Z",
     "start_time": "2022-08-11T14:56:44.579717Z"
    }
   },
   "outputs": [
    {
     "data": {
      "text/plain": [
       "Text(0, 0.5, 'Molecules adsorbed (n/uc)')"
      ]
     },
     "execution_count": 30,
     "metadata": {},
     "output_type": "execute_result"
    },
    {
     "data": {
      "image/png": "[encoded data removed]",
      "text/plain": [
       "<Figure size 432x288 with 1 Axes>"
      ]
     },
     "metadata": {
      "needs_background": "light"
     },
     "output_type": "display_data"
    }
   ],
   "source": [
    "import pandas as pd\n",
    "import matplotlib.pyplot as plt\n",
    "\n",
    "thing = pd.read_table('./Tutorial_6_files/fixedprecision/nmol_1_converge.dat', header=None, sep=' ')\n",
    "pd.DataFrame(thing).plot(x=0,y=1, yerr=2, capsize=2, marker='o')\n",
    "plt.xlabel('Simulation number')\n",
    "plt.ylabel('Molecules adsorbed (n/uc)')"
   ]
  },
  {
   "cell_type": "code",
   "execution_count": 31,
   "id": "159f8080",
   "metadata": {
    "ExecuteTime": {
     "end_time": "2022-08-11T14:56:47.056356Z",
     "start_time": "2022-08-11T14:56:46.922411Z"
    }
   },
   "outputs": [
    {
     "data": {
      "text/plain": [
       "Text(0, 0.5, 'Energy (kCal/mol)')"
      ]
     },
     "execution_count": 31,
     "metadata": {},
     "output_type": "execute_result"
    },
    {
     "data": {
      "image/png": "[encoded data removed]",
      "text/plain": [
       "<Figure size 432x288 with 1 Axes>"
      ]
     },
     "metadata": {
      "needs_background": "light"
     },
     "output_type": "display_data"
    }
   ],
   "source": [
    "thing = pd.read_table('./Tutorial_6_files/fixedprecision/energy_converge.dat', header=None, sep=' ')\n",
    "pd.DataFrame(thing).plot(x=0,y=1, yerr=2, capsize=2, marker='^')\n",
    "plt.xlabel('Simulation number')\n",
    "plt.ylabel('Energy (kCal/mol)')"
   ]
  },
  {
   "cell_type": "markdown",
   "id": "c103498a",
   "metadata": {},
   "source": [
    "From these data you can see that the number of particles equilibrates very quickly, but the simulaiton didn't stop. It looks like the energy didn't converge close enough to complete! \n",
    "\n",
    "### Challenge 1: How can you get the simulations to stop once the number of molecules have converged? \n",
    "Hint: try switching the precisions to 'nmols' or upping the maximun number of simulations. Did these help?"
   ]
  },
  {
   "cell_type": "code",
   "execution_count": 32,
   "id": "ca8dede8",
   "metadata": {
    "ExecuteTime": {
     "end_time": "2022-08-11T15:06:26.371530Z",
     "start_time": "2022-08-11T15:06:26.209513Z"
    }
   },
   "outputs": [
    {
     "data": {
      "text/plain": [
       "Text(0, 0.5, 'Molecules adsorbed (n/uc)')"
      ]
     },
     "execution_count": 32,
     "metadata": {},
     "output_type": "execute_result"
    },
    {
     "data": {
      "image/png": "[encoded data removed]",
      "text/plain": [
       "<Figure size 432x288 with 1 Axes>"
      ]
     },
     "metadata": {
      "needs_background": "light"
     },
     "output_type": "display_data"
    }
   ],
   "source": [
    "import pandas as pd\n",
    "import matplotlib.pyplot as plt\n",
    "\n",
    "thing = pd.read_table('./Tutorial_6_files/fixedprecision/nmol_1_converge.dat', header=None, sep=' ')\n",
    "pd.DataFrame(thing).plot(x=0,y=1, yerr=2, capsize=2, marker='o')\n",
    "plt.xlabel('Simulation number')\n",
    "plt.ylabel('Molecules adsorbed (n/uc)')"
   ]
  },
  {
   "cell_type": "code",
   "execution_count": 33,
   "id": "0ef7b7f2",
   "metadata": {
    "ExecuteTime": {
     "end_time": "2022-08-11T15:06:33.244014Z",
     "start_time": "2022-08-11T15:06:33.095076Z"
    }
   },
   "outputs": [
    {
     "data": {
      "text/plain": [
       "Text(0, 0.5, 'Energy (kCal/mol)')"
      ]
     },
     "execution_count": 33,
     "metadata": {},
     "output_type": "execute_result"
    },
    {
     "data": {
      "image/png": "[encoded data removed]",
      "text/plain": [
       "<Figure size 432x288 with 1 Axes>"
      ]
     },
     "metadata": {
      "needs_background": "light"
     },
     "output_type": "display_data"
    }
   ],
   "source": [
    "thing = pd.read_table('./Tutorial_6_files/fixedprecision/energy_converge.dat', header=None, sep=' ')\n",
    "pd.DataFrame(thing).plot(x=0,y=1, yerr=2, capsize=2, marker='^')\n",
    "plt.xlabel('Simulation number')\n",
    "plt.ylabel('Energy (kCal/mol)')"
   ]
  },
  {
   "cell_type": "code",
   "execution_count": null,
   "id": "b81d4d69",
   "metadata": {},
   "outputs": [],
   "source": []
  }
 ],
 "metadata": {
  "kernelspec": {
   "display_name": "dlmontepython",
   "language": "python",
   "name": "dlmontepython"
  },
  "language_info": {
   "codemirror_mode": {
    "name": "ipython",
    "version": 3
   },
   "file_extension": ".py",
   "mimetype": "text/x-python",
   "name": "python",
   "nbconvert_exporter": "python",
   "pygments_lexer": "ipython3",
   "version": "3.10.2"
  },
  "toc": {
   "base_numbering": 1,
   "nav_menu": {},
   "number_sections": true,
   "sideBar": true,
   "skip_h1_title": true,
   "title_cell": "Table of Contents",
   "title_sidebar": "Contents",
   "toc_cell": false,
   "toc_position": {},
   "toc_section_display": true,
   "toc_window_display": false
  }
 },
 "nbformat": 4,
 "nbformat_minor": 5
}
