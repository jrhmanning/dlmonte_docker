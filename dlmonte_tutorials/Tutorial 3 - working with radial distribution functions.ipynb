{
 "cells": [
  {
   "cell_type": "markdown",
   "id": "38428925",
   "metadata": {},
   "source": [
    "TUTORIAL 3 : RDF\n",
    "================\n",
    "\n",
    "Original author: Andrey V. Brukhno (andrey.brukhno{at}stfc.ac.uk)\n",
    "\n",
    "Modified to use dlmontepython by Joe Manning (joseph.manning{at}manchester.ac.uk)\n",
    "\n",
    "\n",
    "Radial Distribution Function\n",
    "----------------------------\n",
    "\n",
    "Consider a system of identical particles (atoms or molecules) at constant *N,V,T* (canonical ensemble). \n",
    "\n",
    "The **Radial Distribution Function**, or *pair distribution function, g(r),* describes the average density variation as a function of separation between any two particles. \n",
    "\n",
    "<img src=\"images/RDF-illustrations-med.png\" alt=\"Demonstration of the Metropolis algorithm\" class=\"bg-primary\" width=\"500px\"> \n",
    "\n",
    "To arrive at the expression for *g(r)*, we first consider the *n*-particle density distribution, which is proportional to the probablity of a *particular n*-particle configuration (${\\mathbf r}_1, \\dots, {\\mathbf r}_n$):\n",
    "\n",
    "\n",
    "$$\n",
    "   \\rho^{(n)}( {\\mathbf r}_1, \\dots, {\\mathbf r}_n ) = \n",
    "   \\frac{N!}{(N-n)!} \\int \\frac{\\exp[-\\beta U(\\mathbf r^{N})]}{Z(N,V,T)} \\ d{\\mathbf r}_{n+1} \\dots d{\\mathbf r}_N\n",
    "$$\n",
    "\n",
    "where the *N! / (N-n)!* factor accounts for all relevant permutations (due to the particles being identical); and *Z(N,V,T)* is the canonical partition function (normalisation constant in *NVT* ensemble). Setting *n* = 2 one can define the *normalised* pair distribution function\n",
    "\n",
    "$$\n",
    "   g({\\mathbf r}_1, {\\mathbf r}_2) = \n",
    "   \\frac{ \\rho^{(2)}({\\mathbf r}_1, {\\mathbf r}_2) }{ \\rho^{(1)}({\\mathbf r}_1) \\rho^{(1)}({\\mathbf r}_2) } =\n",
    "   \\frac{V^2(N-1)}{N} \\int \\frac{\\exp[-\\beta U(\\mathbf r^{N})]}{Z(N,V,T)} \\ d{\\mathbf r}_{3} \\dots d{\\mathbf r}_N\n",
    "$$\n",
    "\n",
    "For an isotropic system of spherical particles one can simplify the latter formula by recognising that the *radial distribution function* depends only on the particle separation and should also be normalised by the area of the sphere of radius *r* drawn around a reference particle (\"entropy on a sphere\"):\n",
    "\n",
    "$$\n",
    "   g(r)dr = \\frac{V}{4\\pi r^2 N^2} \\langle \\sum_{i\\ne j} \\delta(|\\Delta\\mathbf r_{ij}|-r) \\rangle\n",
    "   g(r)dr = \\frac{\\rho^{(2)}(r)}{4\\pi r^2 \\rho_{b}} = \\frac{V(N-1)}{4\\pi r^2 N} \\sum_{i\\ne j}\\int \\delta(|\\mathbf r_i - \\mathbf r_j|-r) \\frac{\\exp[-\\beta U(\\mathbf r^{N})]}{Z(N,V,T)} \\ d\\mathbf r^{N}\n",
    "$$\n",
    "so that $\\rho(r)/\\rho_b = g(r\\to\\infty)\\to 1$, whereas $\\rho_b g(r)$ gives the local density at distance $r$ away from a particle.\n",
    "\n",
    "$$\n",
    "    \\rho_b \\int g(r) 4\\pi r^2dr = N-1\n",
    "$$\n",
    "\n",
    "NOTE: in simulation RDF can only be determined up to $r_{\\rm max} = \\frac{1}{2} \\min({\\rm cell\\ dimensions})$\n",
    "\n",
    "<img src=\"images/RDF-e1s1t12-s.png\" alt=\"Demonstration of the Metropolis algorithm\" class=\"bg-primary\" width=\"500px\"> \n",
    "\n",
    "### Potential of mean force (PMF)\n",
    "\n",
    "\n",
    "Potential of mean force (PMF or POMF) is defined as the work done upon reversibly bringing two particles from the state of zero-interaction into the state of full-interaction at a given distance, *W(r)*. \n",
    "\n",
    "PMF can be directly obtained from RDF:\n",
    "\n",
    "$$\n",
    "   \\beta W(r) = -\\ln g(r) + \\ln g(\\infty)\n",
    "$$\n",
    "where the zero-interaction state corresponds to infinite separation $(r\\to\\infty)$.\n",
    "\n",
    "NOTE: The PMF concept is also applicable to molecules, complexes or aggregates in solution."
   ]
  },
  {
   "cell_type": "markdown",
   "id": "36262d0b",
   "metadata": {},
   "source": [
    "Exercise 3.1 - RDF calculation\n",
    "------------------------------\n",
    "\n",
    "The exercises are based on [tutorial_2](), developing it somewhat further.\n",
    "\n",
    "We'll read in the appropriate files from the tutorial 2 directory to memory and modiy them here:"
   ]
  },
  {
   "cell_type": "code",
   "execution_count": 6,
   "id": "f6d97c7e",
   "metadata": {
    "ExecuteTime": {
     "end_time": "2022-08-01T15:24:06.088386Z",
     "start_time": "2022-08-01T15:24:06.066384Z"
    }
   },
   "outputs": [],
   "source": [
    "from dlmontepython.htk.sources import dlcontrol, dlconfig, dlfield\n",
    "\n",
    "config = dlconfig.CONFIG.from_file('./tutorial_2_simulation/CONFIG')\n",
    "\n",
    "field = dlfield.from_file('./tutorial_2_simulation/FIELD')\n",
    "\n",
    "control = dlcontrol.CONTROL.from_file('./tutorial_2_simulation/CONTROL')\n",
    "control.title = 'RDF example'\n"
   ]
  },
  {
   "cell_type": "code",
   "execution_count": null,
   "id": "92f61bb7",
   "metadata": {},
   "outputs": [],
   "source": []
  },
  {
   "cell_type": "markdown",
   "id": "e6c20511",
   "metadata": {},
   "source": [
    "Below the essential amendments in CONTROL and FIELD files for this tutorial are described.\n",
    "\n",
    "We use reduced energy units, i.e. kT, whence Kelvin is set as energy unit in FIELD file:\n",
    "\n",
    "```\n",
    "   UNITS K\n",
    "```\n",
    "\n",
    "The VDW parameters are in the units of kT and Angstrom):\n",
    "\n",
    "```\n",
    "   VDW 1\n",
    "   LJ core  LJ core lj   1.0 1.0 \n",
    "```"
   ]
  },
  {
   "cell_type": "code",
   "execution_count": 10,
   "id": "664b30df",
   "metadata": {
    "ExecuteTime": {
     "end_time": "2022-08-01T15:27:44.848732Z",
     "start_time": "2022-08-01T15:27:44.824728Z"
    }
   },
   "outputs": [
    {
     "data": {
      "text/plain": [
       "FIELD(description='Lennard-Jones, 2.5*sigma cut-off, sigma = 1 Angstrom, epsilon = 1 K', cutoff=2.5, units='K', nconfigs=1, atomtypes=[AtomType(name= 'LJ', type= 'core', mass= 1.0, charge= 0.0)], moltypes=[MolType(name='lj', nmaxatom=512, atoms=[], bonds=[], exc_coul_ints=False, rigid= False)], vdw=[VDW(atom1=Atom(name= 'LJ', type= 'core'), atom2=Atom(name= 'LJ', type= 'core'), interaction=Interaction(key='lj', type='Lennard-Jones', epsilon=1.0, sigma=1.0))], bonds2body=[], angles3body=[])"
      ]
     },
     "execution_count": 10,
     "metadata": {},
     "output_type": "execute_result"
    }
   ],
   "source": [
    "field.description = 'Lennard-Jones, 2.5*sigma cut-off, sigma = 1 Angstrom, epsilon = 1 K'\n",
    "field.units = 'K'\n",
    "field.vdw = [dlfield.VDW.from_string(' LJ core  LJ core lj   1.0 1.0 ')]\n",
    "field"
   ]
  },
  {
   "cell_type": "markdown",
   "id": "05b50d94",
   "metadata": {},
   "source": [
    "In CONTROL file reduced temperature is set below the critical point and pressure slightly over the critical value (note that pressure is always set in katm):\n",
    "\n",
    "```\n",
    "   temperature     1.0             # Reduced temperature T* = 1.0 < T*(CP) = 1.1876\n",
    "   pressure        0.02            # p* = p(katm)/0.163882576 > p*(CP)=0.1093 (reduced pressure at CP)\n",
    "```\n",
    "\n",
    "Collection of RDF data is invoked with the following directive in CONTROL file:\n",
    "\n",
    "```\n",
    "   sample rdf <int> <float> <int>\n",
    "```\n",
    "\n",
    "where the three parameters are:\n",
    "\n",
    "* **number of grid points (bins)** - set to a multiple of 10 (500)\n",
    "\n",
    "* **cutoff** - set to half the (expected) minimum cell dimension (5.0)\n",
    "\n",
    "* **stride (number of MC steps)** for accumulation of RDF samples - set to 1000\n",
    "\n",
    "We also invoke collection of data for volume evolution and probability distribution, *P(V)*, with the following line:\n",
    "\n",
    "```\n",
    "   sample volume <int> <float>\n",
    "```\n",
    "where the two parameters are:\n",
    "\n",
    "* **stride (number of volume steps)** for accumulation of samples - set to 10\n",
    "\n",
    "* **bin size** - set to 10.0\n",
    "\n",
    "Now you can re-run the *NpT* calculation for LJ system. Verify that RDFDAT.000 file has been created as a result. Note that RDFDAT file(s) are updated each time the stats are periodically saved, so one can check RDF data while the simulation is still being executed."
   ]
  },
  {
   "cell_type": "code",
   "execution_count": 19,
   "id": "db711e8f",
   "metadata": {
    "ExecuteTime": {
     "end_time": "2022-08-01T15:34:34.570395Z",
     "start_time": "2022-08-01T15:34:34.558397Z"
    },
    "scrolled": true
   },
   "outputs": [
    {
     "data": {
      "text/plain": [
       "CONTROL(title= 'RDF example', use_block= UseBlock(use_statements= OrderedDict([('ortho', None)]), fed_block= None), main_block= MainBlock(statements= OrderedDict([('seeds', OrderedDict([('seed0', 12), ('seed1', 34), ('seed2', 56), ('seed3', 78)])), ('nbrlist', 'auto'), ('maxnonbondnbrs', 512), ('temperature', 1), ('pressure', 0.02), ('steps', 110000), ('equilibration', 10000), ('print', 10000), ('stack', 10000), ('yamldata', 1000), ('revconformat', 'dlmonte'), ('archiveformat', 'dlpoly4')]), moves= [AtomMove(pfreq= 512, movers= [{'id': 'LJ core'}]), VolumeCubicMove(pfreq= 1, sampling= 'linear')], samples= OrderedDict([('coords', OrderedDict([('nfreq', 10000)])), ('volume', OrderedDict([('mfreq', 1), ('deltav', 1.0)])), ('rdf', OrderedDict([('ngrid', 500), ('cutoff', 5.0), ('stride', 1000)]))])))"
      ]
     },
     "execution_count": 19,
     "metadata": {},
     "output_type": "execute_result"
    }
   ],
   "source": [
    "from collections import OrderedDict\n",
    "control.temperature = 1\n",
    "control.pressure = 0.02\n",
    "control.main_block.samples['rdf'] = OrderedDict([('ngrid', 500), ('cutoff',5.), ('stride', 1000)])\n",
    "control"
   ]
  },
  {
   "cell_type": "markdown",
   "id": "a2762022",
   "metadata": {},
   "source": [
    "Now that the files have been loaded into memory and modified, you can write them to a new simulation directory"
   ]
  },
  {
   "cell_type": "code",
   "execution_count": 21,
   "id": "4e5b9998",
   "metadata": {
    "ExecuteTime": {
     "end_time": "2022-08-01T15:38:45.773256Z",
     "start_time": "2022-08-01T15:38:45.747255Z"
    }
   },
   "outputs": [],
   "source": [
    "import os\n",
    "try:\n",
    "    os.mkdir('./tutorial_3_simulation/')\n",
    "except FileExistsError:\n",
    "    pass\n",
    "\n",
    "with open('./tutorial_3_simulation/CONTROL', 'w') as f:\n",
    "    f.write(str(control))\n",
    "\n",
    "with open('./tutorial_3_simulation/FIELD', 'w') as f:\n",
    "    f.write(str(field))\n",
    "\n",
    "with open('./tutorial_3_simulation/CONFIG', 'w') as f:\n",
    "    f.write(str(config))"
   ]
  },
  {
   "cell_type": "markdown",
   "id": "d6577f69",
   "metadata": {},
   "source": [
    "## Data analysis\n",
    "\n",
    "From the simulation, we can now import the RDF file and compare against the folowing example:\n",
    "\n",
    "\n",
    "<img src=\"images/Ex2-gnuplot-RDF-equil1.png\" alt=\"Demonstration of the Metropolis algorithm\" class=\"bg-primary\" width=\"500px\"> "
   ]
  },
  {
   "cell_type": "code",
   "execution_count": 64,
   "id": "630c3e7f",
   "metadata": {
    "ExecuteTime": {
     "end_time": "2022-08-01T16:09:39.378943Z",
     "start_time": "2022-08-01T16:09:39.256871Z"
    }
   },
   "outputs": [
    {
     "data": {
      "text/plain": [
       "<AxesSubplot:xlabel='Radius (A)'>"
      ]
     },
     "execution_count": 64,
     "metadata": {},
     "output_type": "execute_result"
    },
    {
     "data": {
      "image/png": "[encoded data removed]",
      "text/plain": [
       "<Figure size 432x288 with 1 Axes>"
      ]
     },
     "metadata": {
      "needs_background": "light"
     },
     "output_type": "display_data"
    }
   ],
   "source": [
    "import matplotlib.pyplot as plt\n",
    "import pandas as pd\n",
    "\n",
    "rdf = pd.read_csv('./tutorial_3_simulation/RDFDAT.000',  # reading in from the file\n",
    "                  sep = ' ', # column sepaator, which is some amount of spaces\n",
    "                  skiprows=7, # 7 lines of informaiton above first data point\n",
    "                  header=None,\n",
    "                 skipinitialspace=True) # No column titles specified in file)\n",
    "\n",
    "\n",
    "rdf = rdf.dropna(how='all', axis=1) # Drop any columns with no data in\n",
    "rdf = rdf.rename({0: 'Radius (A)', 1: 'g(r)', 2: 'Sum data'}, axis=1) # Manually specifying the column titles\n",
    "rdf = rdf.set_index('Radius (A)') # Set the index to be the first column\n",
    "rdf.plot(y='g(r)') #plot!"
   ]
  },
  {
   "cell_type": "markdown",
   "id": "224059d7",
   "metadata": {},
   "source": [
    "### Checking the RDF\n",
    "\n",
    "Questions to answer:\n",
    "\n",
    "* Does it look reasonable?\n",
    "* Any artifact observed?\n",
    "\n",
    "You can check if the simulation converged with respect to volume (density) variations::\n",
    "\n",
    "<img src=\"images/Ex2-gnuplot-Volume-equil1.png\" alt=\"Demonstration of the Metropolis algorithm\" class=\"bg-primary\" width=\"500px\"> \n",
    "\n",
    "You can also check the probability distribution for volume, *P(V)*::\n",
    "\n",
    "<img src=\"images/Ex2-gnuplot-Vprob-equil1.png\" alt=\"Demonstration of the Metropolis algorithm\" class=\"bg-primary\" width=\"500px\"> \n"
   ]
  },
  {
   "cell_type": "code",
   "execution_count": 40,
   "id": "80c27684",
   "metadata": {
    "ExecuteTime": {
     "end_time": "2022-08-01T16:00:21.048482Z",
     "start_time": "2022-08-01T16:00:20.669499Z"
    }
   },
   "outputs": [
    {
     "data": {
      "text/plain": [
       "<AxesSubplot:>"
      ]
     },
     "execution_count": 40,
     "metadata": {},
     "output_type": "execute_result"
    },
    {
     "data": {
      "image/png": "[encoded data removed]",
      "text/plain": [
       "<Figure size 432x288 with 1 Axes>"
      ]
     },
     "metadata": {
      "needs_background": "light"
     },
     "output_type": "display_data"
    }
   ],
   "source": [
    "volume = pd.read_csv('./tutorial_3_simulation/VOLDAT.000', header=None, names=[\"Volume ($A^3$)\"])\n",
    "volume.plot(y=\"Volume ($A^3$)\")"
   ]
  },
  {
   "cell_type": "code",
   "execution_count": 61,
   "id": "b0aff30d",
   "metadata": {
    "ExecuteTime": {
     "end_time": "2022-08-01T16:08:53.398028Z",
     "start_time": "2022-08-01T16:08:53.257490Z"
    }
   },
   "outputs": [
    {
     "data": {
      "text/plain": [
       "<AxesSubplot:xlabel='Volume ($A^3$)'>"
      ]
     },
     "execution_count": 61,
     "metadata": {},
     "output_type": "execute_result"
    },
    {
     "data": {
      "image/png": "[encoded data removed]",
      "text/plain": [
       "<Figure size 432x288 with 1 Axes>"
      ]
     },
     "metadata": {
      "needs_background": "light"
     },
     "output_type": "display_data"
    }
   ],
   "source": [
    "volume_probability = pd.read_csv('./tutorial_3_simulation/NPTDAT.000',\n",
    "                                header=None,\n",
    "                                skiprows=5,\n",
    "                                sep=' ',\n",
    "                                skipinitialspace=True)\n",
    "volume_probability = volume_probability.dropna(how='all', axis=1)\n",
    "volume_probability = volume_probability.rename({0: 'Volume ($A^3$)', 1: 'P(V)'}, axis=1)\n",
    "volume_probability = volume_probability.set_index('Volume ($A^3$)')\n",
    "volume_probability.plot()"
   ]
  },
  {
   "cell_type": "markdown",
   "id": "f0e02b61",
   "metadata": {},
   "source": [
    "#### What might go wrong?\n",
    "\n",
    "\n",
    "Questions to answer:\n",
    "\n",
    "* Has the simulation converged w.r.t. to volume?\n",
    "* Are the collected statistics sufficient (noisy data, large errors)?"
   ]
  },
  {
   "cell_type": "markdown",
   "id": "73b1250c",
   "metadata": {},
   "source": [
    "### Performing an additional run\n",
    "You might need to perform an additional run, restarting the simulation with the latest configuration stored in REVCON file.\n",
    "\n",
    "Let's do this in a new directory, so as not to lose any of our existing data. We'll not be changing the FIELD file, so let's print it there as-is."
   ]
  },
  {
   "cell_type": "code",
   "execution_count": 66,
   "id": "3f0e49c6",
   "metadata": {
    "ExecuteTime": {
     "end_time": "2022-08-01T16:18:07.906320Z",
     "start_time": "2022-08-01T16:18:07.888316Z"
    }
   },
   "outputs": [],
   "source": [
    "import os\n",
    "try:\n",
    "    os.mkdir('./tutorial_3_equil_2/')\n",
    "except FileExistsError:\n",
    "    pass\n",
    "\n",
    "with open('./tutorial_3_equil_2/FIELD', 'w') as f:\n",
    "    f.write(str(field))\n",
    "\n"
   ]
  },
  {
   "cell_type": "markdown",
   "id": "8409ad40",
   "metadata": {},
   "source": [
    "We want to use a different config though - the REVCON file from the intial simulation:"
   ]
  },
  {
   "cell_type": "code",
   "execution_count": 67,
   "id": "4f2c5d1e",
   "metadata": {
    "ExecuteTime": {
     "end_time": "2022-08-01T16:19:26.764504Z",
     "start_time": "2022-08-01T16:19:26.742525Z"
    }
   },
   "outputs": [],
   "source": [
    "restart = dlconfig.CONFIG.from_file('./tutorial_3_simulation/REVCON.000')\n",
    "with open('./tutorial_3_equil_2/CONFIG', 'w') as f:\n",
    "    f.write(str(restart))"
   ]
  },
  {
   "cell_type": "markdown",
   "id": "add2c555",
   "metadata": {},
   "source": [
    "Based on what we learnt from the equilibration run, some amendments are necessary in CONTROL file:\n",
    "\n",
    "```\n",
    "   steps          10000000         # Number of moves to perform in simulation \n",
    "   equilibration      1000         # Equilibration period: statistics are gathered after this period\n",
    "   sample coordinate 10000         # Frequency to output configuration to trajectory file(s)\n",
    "   sample volume  10  2.           # Sample volume: every 10th volume move (on average); bin size\n",
    "   sample rdf 450 4.5 1000         # Sample RDF(s): number of bins; cutoff; stride (number of steps)\n",
    "```"
   ]
  },
  {
   "cell_type": "code",
   "execution_count": 71,
   "id": "aea0384c",
   "metadata": {
    "ExecuteTime": {
     "end_time": "2022-08-01T16:23:27.995440Z",
     "start_time": "2022-08-01T16:23:27.978440Z"
    }
   },
   "outputs": [],
   "source": [
    "from copy import deepcopy\n",
    "new_control = deepcopy(control)\n",
    "\n",
    "new_control.steps = 1e7\n",
    "new_control.equilibration = 1e3\n",
    "new_control.main_block.samples['coords']['nfreq'] = 1e4\n",
    "new_control.main_block.samples['volume']['mfreq'] = 10\n",
    "new_control.main_block.samples['volume']['deltav'] = 2.\n",
    "new_control.main_block.samples['rdf']['ngrid'] = 450\n",
    "new_control.main_block.samples['rdf']['curoff'] = 4.50\n",
    "\n",
    "\n",
    "with open('./tutorial_3_equil_2/CONTROL', 'w') as f:\n",
    "    f.write(str(new_control))"
   ]
  },
  {
   "cell_type": "markdown",
   "id": "3d516724",
   "metadata": {},
   "source": [
    "#### Checking the results\n",
    "Go through the data analysis as before - does this look more converged?"
   ]
  },
  {
   "cell_type": "markdown",
   "id": "b5d78316",
   "metadata": {},
   "source": [
    "## Lowering density\n",
    "\n",
    "In order to see the effect on RDF let us increase temperature (thereby, aiming at lower density). \n",
    "Edit CONTROL file again: \n",
    "\n",
    "```\n",
    "   temperature     1.5            # Reduced temperature T* = 1.5 > T*(CP) = 1.1876\n",
    "   pressure        0.02           # p* = p(katm)/0.163882576 > p*(CP)=0.1093 (reduced pressure at CP)\n",
    "   sample rdf 400 8.0 1000\n",
    "   sample volume 10 10.\n",
    "```\n",
    "\n",
    "re-run the simulation and redo the analysis.\n",
    "\n",
    "Again store away the current results in **equil-rdf2** in case you may need to redo or restart this simulation!\n",
    "\n",
    "Consider adding the following directives in CONTROL:\n",
    "\n",
    "```\n",
    "   maxatmdist           5.0        # initial max atom displacement (set based on equilibration run)\n",
    "   acceptatmmoveupdate  1000       # stride (number of MC steps) for adjusting the max atom displacement\n",
    "   acceptatmmoveratio   0.4        # target acceptance ratio for atom moves [default: 0.37]\n",
    "```\n",
    "After the production run and analisys, store away the results in a new directory **prod-rdf2**::"
   ]
  },
  {
   "cell_type": "markdown",
   "id": "71a2776a",
   "metadata": {},
   "source": [
    "Exercise 3.2 - PMF calculation\n",
    "------------------------------\n",
    "\n",
    "Calculate the PMFs corresponding to the RDFs obtained above using the pandas `apply` function\n",
    "\n",
    "<img src=\"images/Ex2-gnuplot-PMF-prod2.png\" alt=\"Demonstration of the Metropolis algorithm\" class=\"bg-primary\" width=\"500px\"> \n"
   ]
  },
  {
   "cell_type": "code",
   "execution_count": 79,
   "id": "38b28664",
   "metadata": {
    "ExecuteTime": {
     "end_time": "2022-08-01T16:30:27.108328Z",
     "start_time": "2022-08-01T16:30:26.984709Z"
    }
   },
   "outputs": [
    {
     "ename": "TypeError",
     "evalue": "'list' object is not callable",
     "output_type": "error",
     "traceback": [
      "\u001b[1;31m---------------------------------------------------------------------------\u001b[0m",
      "\u001b[1;31mTypeError\u001b[0m                                 Traceback (most recent call last)",
      "Input \u001b[1;32mIn [79]\u001b[0m, in \u001b[0;36m<cell line: 4>\u001b[1;34m()\u001b[0m\n\u001b[0;32m      2\u001b[0m rdf[\u001b[38;5;124m'\u001b[39m\u001b[38;5;124mpmf\u001b[39m\u001b[38;5;124m'\u001b[39m] \u001b[38;5;241m=\u001b[39m rdf[\u001b[38;5;124m'\u001b[39m\u001b[38;5;124mg(r)\u001b[39m\u001b[38;5;124m'\u001b[39m]\u001b[38;5;241m.\u001b[39mapply(\u001b[38;5;28;01mlambda\u001b[39;00m x: \u001b[38;5;241m-\u001b[39mnp\u001b[38;5;241m.\u001b[39mlog(x\u001b[38;5;241m+\u001b[39m\u001b[38;5;241m1e-5\u001b[39m))\n\u001b[0;32m      3\u001b[0m rdf\u001b[38;5;241m.\u001b[39mplot(y\u001b[38;5;241m=\u001b[39m\u001b[38;5;124m'\u001b[39m\u001b[38;5;124mpmf\u001b[39m\u001b[38;5;124m'\u001b[39m)\n\u001b[1;32m----> 4\u001b[0m \u001b[43mplt\u001b[49m\u001b[38;5;241;43m.\u001b[39;49m\u001b[43mxrange\u001b[49m\u001b[43m(\u001b[49m\u001b[43m[\u001b[49m\u001b[38;5;241;43m-\u001b[39;49m\u001b[38;5;241;43m1\u001b[39;49m\u001b[43m,\u001b[49m\u001b[38;5;241;43m4\u001b[39;49m\u001b[43m]\u001b[49m\u001b[43m)\u001b[49m\n\u001b[0;32m      5\u001b[0m plt\u001b[38;5;241m.\u001b[39mshow()\n",
      "\u001b[1;31mTypeError\u001b[0m: 'list' object is not callable"
     ]
    },
    {
     "data": {
      "image/png": "[encoded data removed]",
      "text/plain": [
       "<Figure size 432x288 with 1 Axes>"
      ]
     },
     "metadata": {
      "needs_background": "light"
     },
     "output_type": "display_data"
    }
   ],
   "source": [
    "import numpy as np\n",
    "rdf['pmf'] = rdf['g(r)'].apply(lambda x: -np.log(x+1e-5))\n",
    "rdf.plot(y='pmf')\n",
    "plt.xrange([-1,4])\n",
    "plt.show()"
   ]
  }
 ],
 "metadata": {
  "kernelspec": {
   "display_name": "dlmontepython",
   "language": "python",
   "name": "dlmontepython"
  },
  "language_info": {
   "codemirror_mode": {
    "name": "ipython",
    "version": 3
   },
   "file_extension": ".py",
   "mimetype": "text/x-python",
   "name": "python",
   "nbconvert_exporter": "python",
   "pygments_lexer": "ipython3",
   "version": "3.10.2"
  },
  "toc": {
   "base_numbering": 1,
   "nav_menu": {},
   "number_sections": true,
   "sideBar": true,
   "skip_h1_title": true,
   "title_cell": "Table of Contents",
   "title_sidebar": "Contents",
   "toc_cell": false,
   "toc_position": {
    "height": "calc(100% - 180px)",
    "left": "10px",
    "top": "150px",
    "width": "279.273px"
   },
   "toc_section_display": true,
   "toc_window_display": true
  }
 },
 "nbformat": 4,
 "nbformat_minor": 5
}
